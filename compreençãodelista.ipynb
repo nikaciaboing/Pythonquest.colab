{
  "nbformat": 4,
  "nbformat_minor": 0,
  "metadata": {
    "colab": {
      "provenance": [],
      "authorship_tag": "ABX9TyMmSHw1AjFZoutyZzlM0MWR",
      "include_colab_link": true
    },
    "kernelspec": {
      "name": "python3",
      "display_name": "Python 3"
    },
    "language_info": {
      "name": "python"
    }
  },
  "cells": [
    {
      "cell_type": "markdown",
      "metadata": {
        "id": "view-in-github",
        "colab_type": "text"
      },
      "source": [
        "<a href=\"https://colab.research.google.com/github/nikaciaboing/Pythonquest.colab/blob/main/compreen%C3%A7%C3%A3odelista.ipynb\" target=\"_parent\"><img src=\"https://colab.research.google.com/assets/colab-badge.svg\" alt=\"Open In Colab\"/></a>"
      ]
    },
    {
      "cell_type": "markdown",
      "source": [
        "1. Crie uma lista com os números de 1 a 10 usando compreensão de lista."
      ],
      "metadata": {
        "id": "GeezgDYJj8Lo"
      }
    },
    {
      "cell_type": "code",
      "execution_count": 1,
      "metadata": {
        "colab": {
          "base_uri": "https://localhost:8080/"
        },
        "id": "lC4f3ByFj2LD",
        "outputId": "e3f521ba-683d-46b8-eb5b-81fb53495882"
      },
      "outputs": [
        {
          "output_type": "stream",
          "name": "stdout",
          "text": [
            "[1, 2, 3, 4, 5, 6, 7, 8, 9, 10]\n"
          ]
        }
      ],
      "source": [
        "numeros = [x for x in range(1, 11)]\n",
        "print(numeros)"
      ]
    },
    {
      "cell_type": "markdown",
      "source": [
        "2. Crie uma lista com os números ímpares de 1 a 50."
      ],
      "metadata": {
        "id": "okFxdVRVkDMn"
      }
    },
    {
      "cell_type": "code",
      "source": [
        "numerosimpares = [x for x in range(1, 51) if x % 2 != 0]\n",
        "print(numerosimpares)"
      ],
      "metadata": {
        "id": "HAyblUVIkMzO"
      },
      "execution_count": null,
      "outputs": []
    },
    {
      "cell_type": "markdown",
      "source": [
        "3. Crie uma lista com as letras maiúsculas de uma string qualquer."
      ],
      "metadata": {
        "id": "Wthk-6iikUON"
      }
    },
    {
      "cell_type": "code",
      "source": [
        "string = \"EXEMPLO De StrIng CoM LeTrAs MaIúscULaS\"\n",
        "letrasmaiusculas = [letra for letra in string if letra.isupper()]\n",
        "print(letrasmaiusculas)"
      ],
      "metadata": {
        "colab": {
          "base_uri": "https://localhost:8080/"
        },
        "id": "EQLLgchJkWk8",
        "outputId": "7f839549-ad01-453c-80b5-dd7ccf08d9f9"
      },
      "execution_count": 3,
      "outputs": [
        {
          "output_type": "stream",
          "name": "stdout",
          "text": [
            "['E', 'X', 'E', 'M', 'P', 'L', 'O', 'D', 'S', 'I', 'C', 'M', 'L', 'T', 'A', 'M', 'I', 'U', 'L', 'S']\n"
          ]
        }
      ]
    },
    {
      "cell_type": "markdown",
      "source": [
        "4. Crie uma lista com o comprimento de cada palavra em uma string."
      ],
      "metadata": {
        "id": "MDxfrWC-ksYu"
      }
    },
    {
      "cell_type": "code",
      "source": [
        "string = \"Atividade em python\"\n",
        "comprimentospalavras = [len(palavra) for palavra in string.split()]\n",
        "print(comprimentospalavras)"
      ],
      "metadata": {
        "colab": {
          "base_uri": "https://localhost:8080/"
        },
        "id": "MZdfzC2Sku8u",
        "outputId": "5b0b67da-c384-443f-db25-6a449e76cc43"
      },
      "execution_count": 5,
      "outputs": [
        {
          "output_type": "stream",
          "name": "stdout",
          "text": [
            "[9, 2, 6]\n"
          ]
        }
      ]
    },
    {
      "cell_type": "markdown",
      "source": [
        "5. Crie uma lista com os números divisíveis por 3 e 5 de 1 a 30."
      ],
      "metadata": {
        "id": "ewGNCRqnlXiR"
      }
    },
    {
      "cell_type": "code",
      "source": [
        "divisiveis3e5 = [x for x in range(1, 31) if x % 3 == 0 and x % 5 == 0]\n",
        "print(divisiveis3e5)"
      ],
      "metadata": {
        "colab": {
          "base_uri": "https://localhost:8080/"
        },
        "id": "44VnvBWxle3t",
        "outputId": "c3f3c152-1e2d-4ee6-ae5e-f0551032ad1b"
      },
      "execution_count": 6,
      "outputs": [
        {
          "output_type": "stream",
          "name": "stdout",
          "text": [
            "[15, 30]\n"
          ]
        }
      ]
    },
    {
      "cell_type": "markdown",
      "source": [
        "6. Crie uma lista com as palavras de uma string que tenham mais de 3 letras."
      ],
      "metadata": {
        "id": "tk44QxoRllb1"
      }
    },
    {
      "cell_type": "code",
      "source": [
        "string = \"Palavra Aleatória\"\n",
        "palavramaiorq3 = [palavra for palavra in string.split() if len(palavra) > 3]\n",
        "print(palavramaiorq3)"
      ],
      "metadata": {
        "colab": {
          "base_uri": "https://localhost:8080/"
        },
        "id": "Pz9tGuC3lq91",
        "outputId": "7bac156c-eb0d-4edb-b416-4066368d80dc"
      },
      "execution_count": 7,
      "outputs": [
        {
          "output_type": "stream",
          "name": "stdout",
          "text": [
            "['Palavra', 'Aleatória']\n"
          ]
        }
      ]
    },
    {
      "cell_type": "markdown",
      "source": [
        "7. Crie uma lista com os números primos de 1 a 20. Dica: use uma função para\n",
        "verificar se o número é primo ou não."
      ],
      "metadata": {
        "id": "SG-RiEGImK_1"
      }
    },
    {
      "cell_type": "code",
      "source": [
        "def primo(num):\n",
        "    if num < 2:\n",
        "        return False\n",
        "    for i in range(2, int(num ** 0.5) + 1):\n",
        "        if num % i == 0:\n",
        "            return False\n",
        "    return True\n",
        "\n",
        "numerosprimos = [x for x in range(1, 21) if primo(x)]\n",
        "print(numerosprimos)"
      ],
      "metadata": {
        "colab": {
          "base_uri": "https://localhost:8080/"
        },
        "id": "Eq97Zzp_mNgu",
        "outputId": "663f97fe-00c6-42ce-ef79-64f923fb5ae4"
      },
      "execution_count": 9,
      "outputs": [
        {
          "output_type": "stream",
          "name": "stdout",
          "text": [
            "[2, 3, 5, 7, 11, 13, 17, 19]\n"
          ]
        }
      ]
    },
    {
      "cell_type": "markdown",
      "source": [
        "8. Crie uma lista com as datas de todos os dias de janeiro em um ano bissexto\n",
        "(considerando que um ano bissexto é divisível por 4)."
      ],
      "metadata": {
        "id": "WUFqU82LmceS"
      }
    },
    {
      "cell_type": "code",
      "source": [
        "import datetime\n",
        "\n",
        "anobissexto = 2024\n",
        "datasjaneiro = [datetime.date(anobissexto, 1, dia) for dia in range(1, 32)]\n",
        "print(datasjaneiro)"
      ],
      "metadata": {
        "colab": {
          "base_uri": "https://localhost:8080/"
        },
        "id": "oNmDJ0Wami6A",
        "outputId": "d24847fc-6684-4fac-e688-1d60f0f86ec7"
      },
      "execution_count": 10,
      "outputs": [
        {
          "output_type": "stream",
          "name": "stdout",
          "text": [
            "[datetime.date(2024, 1, 1), datetime.date(2024, 1, 2), datetime.date(2024, 1, 3), datetime.date(2024, 1, 4), datetime.date(2024, 1, 5), datetime.date(2024, 1, 6), datetime.date(2024, 1, 7), datetime.date(2024, 1, 8), datetime.date(2024, 1, 9), datetime.date(2024, 1, 10), datetime.date(2024, 1, 11), datetime.date(2024, 1, 12), datetime.date(2024, 1, 13), datetime.date(2024, 1, 14), datetime.date(2024, 1, 15), datetime.date(2024, 1, 16), datetime.date(2024, 1, 17), datetime.date(2024, 1, 18), datetime.date(2024, 1, 19), datetime.date(2024, 1, 20), datetime.date(2024, 1, 21), datetime.date(2024, 1, 22), datetime.date(2024, 1, 23), datetime.date(2024, 1, 24), datetime.date(2024, 1, 25), datetime.date(2024, 1, 26), datetime.date(2024, 1, 27), datetime.date(2024, 1, 28), datetime.date(2024, 1, 29), datetime.date(2024, 1, 30), datetime.date(2024, 1, 31)]\n"
          ]
        }
      ]
    },
    {
      "cell_type": "markdown",
      "source": [
        "9. Crie uma lista de strings com os primeiros 10 nomes da lista de nomes."
      ],
      "metadata": {
        "id": "LcP4tNiRmqMo"
      }
    },
    {
      "cell_type": "code",
      "source": [
        "nomes = [\"Ana\", \"Bruno\", \"Carlos\", \"Daniela\", \"Eduardo\", \"Fernanda\", \"Gabriel\", \"Helena\", \"Igor\", \"Juliana\", \"Lucas\", \"Mariana\"]\n",
        "primeiros10nomes = nomes[:10]\n",
        "print(primeiros10nomes)"
      ],
      "metadata": {
        "colab": {
          "base_uri": "https://localhost:8080/"
        },
        "id": "cNNG6taHtyeW",
        "outputId": "9e6f4ca0-a91f-4d5b-8e01-cfbc3a9e63db"
      },
      "execution_count": 11,
      "outputs": [
        {
          "output_type": "stream",
          "name": "stdout",
          "text": [
            "['Ana', 'Bruno', 'Carlos', 'Daniela', 'Eduardo', 'Fernanda', 'Gabriel', 'Helena', 'Igor', 'Juliana']\n"
          ]
        }
      ]
    },
    {
      "cell_type": "markdown",
      "source": [
        "10. Crie uma lista de strings com os nomes dos primeiros 10 nomes da lista de\n",
        "nomes, mas com as primeiras letras maiúsculas."
      ],
      "metadata": {
        "id": "nUSE0q0RuDhT"
      }
    },
    {
      "cell_type": "code",
      "source": [
        "nomes = [\"ana\", \"bruno\", \"carlos\", \"daniela\", \"eduardo\", \"fernanda\", \"gabriel\", \"helena\", \"igor\", \"juliana\", \"lucas\", \"mariana\"]\n",
        "nomesmaiuscula = [nome.capitalize() for nome in nomes[:10]]\n",
        "print(nomesmaiuscula)"
      ],
      "metadata": {
        "colab": {
          "base_uri": "https://localhost:8080/"
        },
        "id": "YFezniVduGNH",
        "outputId": "bca2f26b-a113-4852-b1e3-e5c5640deb9d"
      },
      "execution_count": 12,
      "outputs": [
        {
          "output_type": "stream",
          "name": "stdout",
          "text": [
            "['Ana', 'Bruno', 'Carlos', 'Daniela', 'Eduardo', 'Fernanda', 'Gabriel', 'Helena', 'Igor', 'Juliana']\n"
          ]
        }
      ]
    },
    {
      "cell_type": "markdown",
      "source": [
        "11. Crie uma lista de strings com os nomes dos primeiros 10 nomes da lista de\n",
        "nomes, mas sem as vogais."
      ],
      "metadata": {
        "id": "2CM6gygRud7o"
      }
    },
    {
      "cell_type": "code",
      "source": [
        "lista_nomes = [\"Ana\", \"Bruno\", \"Carlos\", \"Daniela\", \"Eduardo\", \"Fernanda\", \"Gabriel\", \"Helena\", \"Igor\", \"Juliana\", \"Lucas\", \"Mariana\"]\n",
        "vogais = \"aeiouAEIOU\"\n",
        "\n",
        "primeiros10nomesemvogais = [''.join([letra for letra in nome if letra not in vogais]) for nome in lista_nomes[:10]]\n",
        "print(primeiros10nomesemvogais)"
      ],
      "metadata": {
        "colab": {
          "base_uri": "https://localhost:8080/"
        },
        "id": "reNj_os8ugzP",
        "outputId": "0d930448-34c2-4cc1-89e7-406bcff63fdb"
      },
      "execution_count": 13,
      "outputs": [
        {
          "output_type": "stream",
          "name": "stdout",
          "text": [
            "['n', 'Brn', 'Crls', 'Dnl', 'drd', 'Frnnd', 'Gbrl', 'Hln', 'gr', 'Jln']\n"
          ]
        }
      ]
    },
    {
      "cell_type": "markdown",
      "source": [
        "12. Concatenar elementos de sub-listas em uma única lista"
      ],
      "metadata": {
        "id": "q-vibijaukxK"
      }
    },
    {
      "cell_type": "code",
      "source": [
        "sublistas = [[1, 2, 3], [4, 5, 6], [7, 8, 9]]\n",
        "listaconcatenada = [elemento for sublista in sublistas for elemento in sublista]\n",
        "print(listaconcatenada)"
      ],
      "metadata": {
        "colab": {
          "base_uri": "https://localhost:8080/"
        },
        "id": "TmeDfOEgu456",
        "outputId": "ca50bc92-ae95-4921-8083-4ea3db9dddfa"
      },
      "execution_count": 15,
      "outputs": [
        {
          "output_type": "stream",
          "name": "stdout",
          "text": [
            "[1, 2, 3, 4, 5, 6, 7, 8, 9]\n"
          ]
        }
      ]
    },
    {
      "cell_type": "markdown",
      "source": [
        "13. Criar um dicionário a partir de duas listas"
      ],
      "metadata": {
        "id": "6kK0UqumvC6k"
      }
    },
    {
      "cell_type": "code",
      "source": [
        "chaves = [\"nome\", \"idade\", \"cidade\"]\n",
        "valores = [\"Ana\", 25, \"São Paulo\"]\n",
        "\n",
        "dicionario = dict(zip(chaves, valores))\n",
        "print(dicionario)"
      ],
      "metadata": {
        "colab": {
          "base_uri": "https://localhost:8080/"
        },
        "id": "tLDyFuqavHXj",
        "outputId": "729a1638-e9cd-4b77-9851-6133898fa57c"
      },
      "execution_count": 16,
      "outputs": [
        {
          "output_type": "stream",
          "name": "stdout",
          "text": [
            "{'nome': 'Ana', 'idade': 25, 'cidade': 'São Paulo'}\n"
          ]
        }
      ]
    }
  ]
}