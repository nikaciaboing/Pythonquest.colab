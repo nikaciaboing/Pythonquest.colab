{
  "nbformat": 4,
  "nbformat_minor": 0,
  "metadata": {
    "colab": {
      "provenance": [],
      "authorship_tag": "ABX9TyMk04Ji/skdTCMiQctsO/15",
      "include_colab_link": true
    },
    "kernelspec": {
      "name": "python3",
      "display_name": "Python 3"
    },
    "language_info": {
      "name": "python"
    }
  },
  "cells": [
    {
      "cell_type": "markdown",
      "metadata": {
        "id": "view-in-github",
        "colab_type": "text"
      },
      "source": [
        "<a href=\"https://colab.research.google.com/github/nikaciaboing/Pythonquest.colab/blob/main/fun%C3%A7%C3%B5es.ipynb\" target=\"_parent\"><img src=\"https://colab.research.google.com/assets/colab-badge.svg\" alt=\"Open In Colab\"/></a>"
      ]
    },
    {
      "cell_type": "markdown",
      "source": [
        "1. Faça uma função para converter uma temperatura em graus Fahrenheit para\n",
        "Celsius. A temperatura em Fahrenheit é o dado de entrada e a temperatura em\n",
        "Celsius é o dado de saída. Utilize a fórmula C = (F - 32) * 5/9, onde F é a\n",
        "temperatura em Fahrenheit e C é a temperatura em Celsius."
      ],
      "metadata": {
        "id": "2UjkqFM0W3oV"
      }
    },
    {
      "cell_type": "code",
      "execution_count": null,
      "metadata": {
        "id": "FETLvjTEW2oQ",
        "colab": {
          "base_uri": "https://localhost:8080/"
        },
        "outputId": "1a13f170-48b2-43b0-a8a8-4132abc45cec"
      },
      "outputs": [
        {
          "output_type": "stream",
          "name": "stdout",
          "text": [
            "37.0\n"
          ]
        }
      ],
      "source": [
        "def fahrenheitparacelsius(f):\n",
        "    return (f - 32) * 5/9\n",
        "print(fahrenheitparacelsius(98.6))"
      ]
    },
    {
      "cell_type": "markdown",
      "source": [
        "2. Faça uma função que calcule a hipotenusa. Os catetos são os dados de entrada e\n",
        "a hipotenusa é o dado de saída.\n",
        "\n",
        "���������� = -�������� + ��������"
      ],
      "metadata": {
        "id": "RczOWnhrjE4_"
      }
    },
    {
      "cell_type": "code",
      "source": [
        "cateto1 = 3\n",
        "cateto2 = 4\n",
        "hipotenusa = calcularhipotenusa (cateto1, cateto2)\n",
        "print(f\"A hipotenusa é: {hipotenusa}\")"
      ],
      "metadata": {
        "id": "5CQmTfr4jHiE",
        "colab": {
          "base_uri": "https://localhost:8080/"
        },
        "outputId": "c8272324-813b-49d2-be63-e039498c6f2d"
      },
      "execution_count": null,
      "outputs": [
        {
          "output_type": "stream",
          "name": "stdout",
          "text": [
            "A hipotenusa é: 5.0\n"
          ]
        }
      ]
    },
    {
      "cell_type": "markdown",
      "source": [
        "3. Escreva um programa para ler as notas das duas avaliações de um aluno no\n",
        "semestre. Faça uma função que receba as duas notas por parâmetro e calcule e\n",
        "escreva a média semestral e a mensagem “PARABÉNS! Você foi aprovado!”\n",
        "somente se o aluno foi aprovado (considere 6.0 a média mínima para aprovação)."
      ],
      "metadata": {
        "id": "RVofJx_Opl5Z"
      }
    },
    {
      "cell_type": "code",
      "source": [
        "def calcularmedia(nota1, nota2):\n",
        "    return (nota1 + nota2) / 2\n",
        "\n",
        "def verificar_aprovacao(media):\n",
        "    if media >= 6.0:\n",
        "        return \"PARABÉNS! Você foi aprovado!\"\n",
        "    else:\n",
        "        return \"Infelizmente, você não foi aprovado.\"\n",
        "\n",
        "nota1 = float(input(\"Digite a primeira nota: \"))\n",
        "nota2 = float(input(\"Digite a segunda nota: \"))\n",
        "media = calcularmedia(nota1, nota2)\n",
        "\n",
        "print(f\"Sua média semestral é: {media:.2f}\")\n",
        "print(verificar_aprovacao(media))"
      ],
      "metadata": {
        "colab": {
          "base_uri": "https://localhost:8080/"
        },
        "id": "kfcniviIpon5",
        "outputId": "32f7f093-0cdc-49fa-d20f-2ae3c265411b"
      },
      "execution_count": null,
      "outputs": [
        {
          "output_type": "stream",
          "name": "stdout",
          "text": [
            "Digite a primeira nota: 9\n",
            "Digite a segunda nota: 1\n",
            "Sua média semestral é: 5.00\n",
            "Infelizmente, você não foi aprovado.\n"
          ]
        }
      ]
    },
    {
      "cell_type": "markdown",
      "source": [
        "4. Faça um programa que leia a altura e o sexo (codificado da seguinte forma:\n",
        "1-feminino 2-masculino) de uma pessoa. Depois faça uma função chamada\n",
        "pesoideal que receba a altura e o sexo via parâmetro e que calcule e retorne seu\n",
        "peso ideal, utilizando as seguintes fórmulas:\n",
        "• para homens: (72.7 * h) – 58\n",
        "• para mulheres: (62.1 * h) – 44.7\n",
        "Observação: Altura = h (na fórmula acima)."
      ],
      "metadata": {
        "id": "wd97dqQUp-mz"
      }
    },
    {
      "cell_type": "code",
      "source": [
        "def pesoideal(altura, sexo):\n",
        "    if sexo == 1:\n",
        "        return (62.1 * altura) - 44.7\n",
        "    elif sexo == 2:\n",
        "        return (72.7 * altura) - 58\n",
        "    else:\n",
        "        return \"Sexo inválido\"\n",
        "\n",
        "altura = float(input(\"Digite sua altura (ex: 1.70): \"))\n",
        "sexo = int(input(\"Digite o sexo (1 para feminino, 2 para masculino): \"))\n",
        "peso = pesoideal(altura, sexo)\n",
        "\n",
        "if isinstance(peso, str):\n",
        "    print(peso)\n",
        "else:\n",
        "    print(f\"Seu peso ideal é: {peso:.2f} kg\")"
      ],
      "metadata": {
        "colab": {
          "base_uri": "https://localhost:8080/"
        },
        "id": "qnuaT7e1p-Cr",
        "outputId": "355f2be3-3aef-4575-dd59-bf6573005673"
      },
      "execution_count": null,
      "outputs": [
        {
          "output_type": "stream",
          "name": "stdout",
          "text": [
            "Digite sua altura (ex: 1.70): 1.68\n",
            "Digite o sexo (1 para feminino, 2 para masculino): 1\n",
            "Seu peso ideal é: 59.63 kg\n"
          ]
        }
      ]
    },
    {
      "cell_type": "markdown",
      "source": [
        "5. Escreva um programa para ler o número de lados de um polígono regular e a\n",
        "medida do lado (em cm). Faça uma função que receba como parâmetro o número\n",
        "de lados e a medida do lado deste polígono e calcule e imprima o seguinte:\n",
        "• Se o número de lados for igual a 3, escrever TRIÂNGULO e o valor do seu\n",
        "perímetro.\n",
        "• Se o número de lados for igual a 4, escrever QUADRADO e o valor da sua área.\n",
        "• Se o número de lados for igual a 5, escrever PENTÁGONO.\n",
        "Observação: Considere que o usuário só informará os valores 3, 4 ou 5."
      ],
      "metadata": {
        "id": "hCD5yE1GqkEm"
      }
    },
    {
      "cell_type": "code",
      "source": [
        "def calcularpoligono(numlados, medidalado):\n",
        "    if numlados == 3:\n",
        "        perimetro = 3 * medidalado\n",
        "        print(f\"TRIÂNGULO com perímetro de {perimetro:.2f} cm\")\n",
        "    elif numlados == 4:\n",
        "        area = medidalado ** 2\n",
        "        print(f\"QUADRADO com área de {area:.2f} cm²\")\n",
        "    elif numlados == 5:\n",
        "        print(\"PENTÁGONO\")\n",
        "    else:\n",
        "        print(\"Número de lados inválido\")\n",
        "\n",
        "numlados = int(input(\"Digite o número de lados do polígono (3, 4 ou 5): \"))\n",
        "medidalado = float(input(\"Digite a medida do lado em cm: \"))\n",
        "\n",
        "calcularpoligono(numlados, medidalado)"
      ],
      "metadata": {
        "id": "uo9xw1n9qpoF"
      },
      "execution_count": null,
      "outputs": []
    },
    {
      "cell_type": "markdown",
      "source": [
        "6. Escreva uma função que recebe 2 números inteiros n1 e n2 como entrada e\n",
        "retorna a soma de todos os números inteiros contidos no intervalo [n1,n2]. Use\n",
        "esta função em um programa que lê n1 e n2 do usuário e imprime a soma."
      ],
      "metadata": {
        "id": "6t9Ydj2aq3M0"
      }
    },
    {
      "cell_type": "code",
      "source": [
        "def somaintervalo(n1, n2):\n",
        "    if n1 > n2:\n",
        "        n1, n2 = n2, n1\n",
        "    soma = sum(range(n1, n2 + 1))\n",
        "    return soma\n",
        "\n",
        "n1 = int(input(\"Digite o primeiro número inteiro: \"))\n",
        "n2 = int(input(\"Digite o segundo número inteiro: \"))\n",
        "\n",
        "soma = somaintervalo(n1, n2)\n",
        "print(f\"A soma de todos os números inteiros no intervalo [{n1}, {n2}] é: {soma}\")"
      ],
      "metadata": {
        "id": "wTxOWTykq7Ws"
      },
      "execution_count": null,
      "outputs": []
    },
    {
      "cell_type": "markdown",
      "source": [
        "7. Escreva uma função que receba um número inteiro e imprima o mês\n",
        "correspondente ao número. Por exemplo, 2 corresponde a “fevereiro”. O\n",
        "procedimento deve mostrar uma mensagem de erro caso o número recebido não\n",
        "faça sentido. Gere também um programa que leia um valor e chame a função\n",
        "criada."
      ],
      "metadata": {
        "id": "zEPhvLP0rUfX"
      }
    },
    {
      "cell_type": "code",
      "source": [
        "def imprimirmes(numero):\n",
        "    meses = {\n",
        "        1: \"janeiro\",\n",
        "        2: \"fevereiro\",\n",
        "        3: \"março\",\n",
        "        4: \"abril\",\n",
        "        5: \"maio\",\n",
        "        6: \"junho\",\n",
        "        7: \"julho\",\n",
        "        8: \"agosto\",\n",
        "        9: \"setembro\",\n",
        "        10: \"outubro\",\n",
        "        11: \"novembro\",\n",
        "        12: \"dezembro\"\n",
        "    }\n",
        "\n",
        "    if numero in meses:\n",
        "        print(f\"O mês correspondente é: {meses[numero]}\")\n",
        "    else:\n",
        "        print(\"Erro: Número inválido. Por favor, insira um número entre 1 e 12.\")\n",
        "\n",
        "numero = int(input(\"Digite um número inteiro entre 1 e 12: \"))\n",
        "imprimirmes(numero)"
      ],
      "metadata": {
        "id": "PhravrXXrVSq"
      },
      "execution_count": null,
      "outputs": []
    },
    {
      "cell_type": "markdown",
      "source": [
        "8. Escreva uma função que receba um número natural e imprima os três primeiros\n",
        "caracteres do dia da semana correspondente ao número. Por exemplo, 7\n",
        "corresponde a “SAB”. O procedimento deve mostrar uma mensagem de erro caso\n",
        "o número recebido não corresponda a um dia da semana. Gere também um\n",
        "programa que utilize essa função, chamando-a, mas antes lendo um valor para\n",
        "passagem de parâmetro."
      ],
      "metadata": {
        "id": "KwavAzAkrz6E"
      }
    },
    {
      "cell_type": "code",
      "source": [
        "def diasemana(num):\n",
        "    diassemana = {\n",
        "        1: \"Domingo\",\n",
        "        2: \"Segunda\",\n",
        "        3: \"Terça\",\n",
        "        4: \"Quarta\",\n",
        "        5: \"Quinta\",\n",
        "        6: \"Sexta\",\n",
        "        7: \"Sabado\"\n",
        "    }\n",
        "\n",
        "    if num in diassemana:\n",
        "        print(f\"O dia da semana correspondente é: {diassemana[num]}\")\n",
        "    else:\n",
        "        print(\"Erro: Número inválido. Por favor, insira um número entre 1 e 7.\")\n",
        "\n",
        "num = int(input(\"Digite um número natural entre 1 e 7: \"))\n",
        "diasemana(num)"
      ],
      "metadata": {
        "colab": {
          "base_uri": "https://localhost:8080/"
        },
        "id": "vkiu94-kr0U2",
        "outputId": "a9bdc637-97aa-47c3-add1-9fe456d009c5"
      },
      "execution_count": null,
      "outputs": [
        {
          "output_type": "stream",
          "name": "stdout",
          "text": [
            "Digite um número natural entre 1 e 7: 2\n",
            "O dia da semana correspondente é: Segunda\n"
          ]
        }
      ]
    },
    {
      "cell_type": "markdown",
      "source": [
        "9. Escreva uma função que receba dois números inteiros x e y. Essa função deve\n",
        "verificar se x é divisível por y. No caso positivo, a função deve retornar 1, caso\n",
        "contrário zero. Escreva também um programa para testar tal função."
      ],
      "metadata": {
        "id": "mwCBG5Vhshd9"
      }
    },
    {
      "cell_type": "code",
      "source": [
        "def verificar(x, y):\n",
        "    if y == 0:\n",
        "        return \"Erro: Divisão por zero não é permitida.\"\n",
        "    return 1 if x % y == 0 else 0\n",
        "\n",
        "x = int(input(\"Digite o primeiro número inteiro (x): \"))\n",
        "y = int(input(\"Digite o segundo número inteiro (y): \"))\n",
        "\n",
        "resultado = verificar(x, y)\n",
        "\n",
        "if resultado == \"Erro: Divisão por zero não é permitida.\":\n",
        "    print(resultado)\n",
        "else:\n",
        "    print(f\"O resultado da verificação é: {resultado}\")"
      ],
      "metadata": {
        "id": "gfLnUNzDsiXP"
      },
      "execution_count": null,
      "outputs": []
    },
    {
      "cell_type": "markdown",
      "source": [
        "10. Criar uma função que calcule e retorne o MAIOR entre dois valores recebidos como\n",
        "parâmetros. Um programa para testar tal função deve ser criado."
      ],
      "metadata": {
        "id": "VvgjIu0ysuxZ"
      }
    },
    {
      "cell_type": "code",
      "source": [
        "def maiorvalor(a, b):\n",
        "    return a if a > b else b\n",
        "a = float(input(\"Digite o primeiro valor: \"))\n",
        "b = float(input(\"Digite o segundo valor: \"))\n",
        "\n",
        "resultado = maiorvalor(a, b)\n",
        "print(f\"O maior valor entre {a} e {b} é: {resultado}\")"
      ],
      "metadata": {
        "colab": {
          "base_uri": "https://localhost:8080/"
        },
        "id": "vgVA7DimszAY",
        "outputId": "a5bc5019-49d0-44a2-d41b-0982d327885b"
      },
      "execution_count": null,
      "outputs": [
        {
          "output_type": "stream",
          "name": "stdout",
          "text": [
            "Digite o primeiro valor: 7\n",
            "Digite o segundo valor: 9\n",
            "O maior valor entre 7.0 e 9.0 é: 9.0\n"
          ]
        }
      ]
    },
    {
      "cell_type": "markdown",
      "source": [
        "11. Crie uma função que realize a conversão de Polegadas (pol) para Centímetros\n",
        "(cm), onde pol é passado como parâmetro e cm é retornado. Sabe-se que 1\n",
        "polegada tem 2.54 centímetros. Crie também um programa para testar tal função."
      ],
      "metadata": {
        "id": "pTPsngW2szhL"
      }
    },
    {
      "cell_type": "code",
      "source": [
        "def polegadaspcentimetros(polegadas):\n",
        "    return polegadas * 2.54\n",
        "\n",
        "polegadas = float(input(\"Digite o valor em polegadas: \"))\n",
        "\n",
        "centimetros = polegadaspcentimetros(polegadas)\n",
        "print(f\"{polegadas} polegadas é igual a {centimetros:.2f} centímetros\")"
      ],
      "metadata": {
        "id": "rs0pn1Als2NE"
      },
      "execution_count": null,
      "outputs": []
    }
  ]
}