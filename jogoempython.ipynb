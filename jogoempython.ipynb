{
  "nbformat": 4,
  "nbformat_minor": 0,
  "metadata": {
    "colab": {
      "provenance": [],
      "authorship_tag": "ABX9TyPeBl0ew1cIMgDCx9bmHpFY",
      "include_colab_link": true
    },
    "kernelspec": {
      "name": "python3",
      "display_name": "Python 3"
    },
    "language_info": {
      "name": "python"
    }
  },
  "cells": [
    {
      "cell_type": "markdown",
      "metadata": {
        "id": "view-in-github",
        "colab_type": "text"
      },
      "source": [
        "<a href=\"https://colab.research.google.com/github/nikaciaboing/Pythonquest.colab/blob/main/jogoempython.ipynb\" target=\"_parent\"><img src=\"https://colab.research.google.com/assets/colab-badge.svg\" alt=\"Open In Colab\"/></a>"
      ]
    },
    {
      "cell_type": "markdown",
      "source": [
        "Crie um jogo que embaralhe uma palavra e a mostre ao jogador. O objetivo dele é\n",
        "acertar a palavra em no máximo 5 tentativas. Informe sempre quantas tentativas ele\n",
        "ainda tem. Se ele acertar, dê os parabéns; se errar dê uma palavra de ânimo (de\n",
        "preferência não fixa). Ao final, mostre a palavra correta e o número de tentativas que\n",
        "ele utilizou."
      ],
      "metadata": {
        "id": "LiE6QrWmuAVB"
      }
    },
    {
      "cell_type": "code",
      "execution_count": null,
      "metadata": {
        "id": "OYOgy8J6t6h_",
        "colab": {
          "base_uri": "https://localhost:8080/"
        },
        "outputId": "2fd284fc-022c-403a-d551-f10fe3f53f2c"
      },
      "outputs": [
        {
          "output_type": "stream",
          "name": "stdout",
          "text": [
            "A palavra embaralhada é:nmrgaoo\n",
            "tentativa1/5: Qual é a palavra?casa\n",
            "Errou, tente novamente!\n",
            "tentativa2/5: Qual é a palavra?morgana\n",
            "Errou, tente novamente!\n",
            "tentativa3/5: Qual é a palavra?morango\n",
            "Parabens você acertou a palavra!'morango' em 3 tentativa(s).\n",
            "você venceu o jogo!\n"
          ]
        }
      ],
      "source": [
        "import random\n",
        "\n",
        "def embaralhapalavra():\n",
        "  palavraadivinha = \"morango\"\n",
        "  embaralhapalavra = ''.join(random.sample(palavraadivinha, len(palavraadivinha)))\n",
        "\n",
        "  print(f\"A palavra embaralhada é:{embaralhapalavra}\")\n",
        "  tentativas = 5\n",
        "\n",
        "  for tentativa in range(1, tentativas + 1):\n",
        "    palpite = input(f\"tentativa{tentativa}/{tentativas}: Qual é a palavra?\").lower()\n",
        "\n",
        "    if palpite == palavraadivinha :\n",
        "      print(f\"Parabens você acertou a palavra!'{palavraadivinha}' em {tentativa} tentativa(s).\")\n",
        "      return True\n",
        "    else:\n",
        "     print(\"Errou, tente novamente!\")\n",
        "\n",
        "  print(f\"Fim de jogo! A palavra correta era: '{palavraadivinha}'.\")\n",
        "  return False\n",
        "\n",
        "resultado=embaralhapalavra()\n",
        "if resultado:\n",
        "  print(\"você venceu o jogo!\")\n",
        "else:\n",
        "  print(\"você perdeu o jogo!\")"
      ]
    },
    {
      "cell_type": "markdown",
      "source": [
        "Incluir escolha de temas para as palavras (cidades, cores, times, países, objetos, etc.)\n",
        "e níveis de dificuldade (ex: iniciante, intermediário, avançado)."
      ],
      "metadata": {
        "id": "8T_PlPJzgYvX"
      }
    },
    {
      "cell_type": "code",
      "source": [
        "import random\n",
        "temas = {\n",
        "    'cidades': ['paris', 'londres', 'tokyo', 'nairobi', 'berlim'],\n",
        "    'cores': ['vermelho', 'azul', 'verde', 'amarelo', 'preto'],\n",
        "    'times': ['barcelona', 'real', 'juventus', 'flamengo', 'santos'],\n",
        "    'paises': ['brasil', 'alemanha', 'canada', 'franca', 'japao'],\n",
        "    'objetos': ['cadeira', 'mesa', 'celular', 'lapis', 'caneta']\n",
        "}\n",
        "\n",
        "def embaralhapalavra():\n",
        "    print(\"Escolha um tema:\")\n",
        "    for tema in temas.keys():\n",
        "        print(f\"- {tema}\")\n",
        "    tema_escolhido = input(\"Digite o tema escolhido: \").lower()\n",
        "\n",
        "    while tema_escolhido not in temas:\n",
        "        tema_escolhido = input(\"Tema inválido. Escolha novamente: \").lower()\n",
        "\n",
        "    print(\"\\nEscolha o nível de dificuldade:\")\n",
        "    print(\"1. Iniciante (10 tentativas)\")\n",
        "    print(\"2. Intermediário (7 tentativas)\")\n",
        "    print(\"3. Avançado (5 tentativas)\")\n",
        "    dificuldade = input(\"Digite o número da dificuldade escolhida: \")\n",
        "\n",
        "    if dificuldade == '1':\n",
        "        tentativas = 10\n",
        "    elif dificuldade == '2':\n",
        "        tentativas = 7\n",
        "    else:\n",
        "        tentativas = 5\n",
        "\n",
        "    palavraadivinha = random.choice(temas[tema_escolhido])\n",
        "    embaralhapalavra = ''.join(random.sample(palavraadivinha, len(palavraadivinha)))\n",
        "\n",
        "    print(f\"\\nA palavra embaralhada é: {embaralhapalavra}\")\n",
        "    print(f\"Você tem {tentativas} tentativas.\\n\")\n",
        "\n",
        "    for tentativa in range(1, tentativas + 1):\n",
        "        palpite = input(f\"Tentativa {tentativa}/{tentativas}: Qual é a palavra? \").lower()\n",
        "\n",
        "        if palpite == palavraadivinha:\n",
        "            print(f\"Parabéns, você acertou a palavra '{palavraadivinha}' em {tentativa} tentativa(s)!\")\n",
        "            return True\n",
        "        else:\n",
        "            print(\"Errou, tente novamente!\")\n",
        "\n",
        "    print(f\"Fim de jogo! A palavra correta era: '{palavraadivinha}'.\")\n",
        "    return False\n",
        "\n",
        "resultado = embaralhapalavra()\n",
        "\n",
        "if resultado:\n",
        "    print(\"O jogador venceu o jogo!\")\n",
        "else:\n",
        "    print(\"O jogador perdeu o jogo!\")"
      ],
      "metadata": {
        "colab": {
          "base_uri": "https://localhost:8080/"
        },
        "id": "AD3vYDVYgZIj",
        "outputId": "65f08a29-d4a4-487e-b43e-f08040da4414"
      },
      "execution_count": null,
      "outputs": [
        {
          "output_type": "stream",
          "name": "stdout",
          "text": [
            "Escolha um tema:\n",
            "- cidades\n",
            "- cores\n",
            "- times\n",
            "- paises\n",
            "- objetos\n",
            "Digite o tema escolhido: casas\n",
            "Tema inválido. Escolha novamente: cores\n",
            "\n",
            "Escolha o nível de dificuldade:\n",
            "1. Iniciante (10 tentativas)\n",
            "2. Intermediário (7 tentativas)\n",
            "3. Avançado (5 tentativas)\n",
            "Digite o número da dificuldade escolhida: 3\n",
            "\n",
            "A palavra embaralhada é: lauz\n",
            "Você tem 5 tentativas.\n",
            "\n",
            "Tentativa 1/5: Qual é a palavra? azul\n",
            "Parabéns, você acertou a palavra 'azul' em 1 tentativa(s)!\n",
            "O jogador venceu o jogo!\n"
          ]
        }
      ]
    },
    {
      "cell_type": "markdown",
      "source": [
        "Análise de Dados de Meteorologia com Strings e Listas\n",
        "Imagine que você está recebendo dados diários de meteorologia em uma lista de\n",
        "strings no seguinte formato: \"2023-09-15: Máxima=35, Mínima=22, Chuva=0.5mm\". Crie\n",
        "uma função chamada analisa_meteorologia() que:\n",
        "1. Leia uma lista com dados de diferentes dias.\n",
        "2. Calcule a média de temperatura máxima e mínima do mês.\n",
        "3. Encontre o dia com a maior precipitação e o dia com a menor temperatura.\n",
        "4. Filtre os dias em que a temperatura máxima foi maior que 30 e não houve chuva."
      ],
      "metadata": {
        "id": "O-8Cx2zEhsDu"
      }
    },
    {
      "cell_type": "code",
      "source": [
        "def analisa_meteorologia(dados_meteorologicos):\n",
        "    maximas = []\n",
        "    minimas = []\n",
        "    chuvas = []\n",
        "    dias_sem_chuva_acima_30 = []\n",
        "    dia_maior_chuva = None\n",
        "    dia_menor_temp = None\n",
        "    maior_precipitacao = 0\n",
        "    menor_temperatura = float('inf')\n",
        "\n",
        "    for dado in dados_meteorologicos:\n",
        "        data, restante = dado.split(\": \")\n",
        "        maxima_str, minima_str, chuva_str = restante.split(\", \")\n",
        "\n",
        "        maxima = int(maxima_str.split(\"=\")[1])\n",
        "        minima = int(minima_str.split(\"=\")[1])\n",
        "        chuva = float(chuva_str.split(\"=\")[1].replace(\"mm\", \"\"))\n",
        "\n",
        "        maximas.append(maxima)\n",
        "        minimas.append(minima)\n",
        "        chuvas.append(chuva)\n",
        "\n",
        "        if chuva > maior_precipitacao:\n",
        "            maior_precipitacao = chuva\n",
        "            dia_maior_chuva = data\n",
        "\n",
        "        if minima < menor_temperatura:\n",
        "            menor_temperatura = minima\n",
        "            dia_menor_temp = data\n",
        "\n",
        "        if maxima > 30 and chuva == 0:\n",
        "            dias_sem_chuva_acima_30.append(data)\n",
        "\n",
        "    media_maxima = sum(maximas) / len(maximas)\n",
        "    media_minima = sum(minimas) / len(minimas)\n",
        "\n",
        "    print(f\"Média da temperatura máxima do mês: {media_maxima:.2f}°C\")\n",
        "    print(f\"Média da temperatura mínima do mês: {media_minima:.2f}°C\")\n",
        "    print(f\"Dia com a maior precipitação: {dia_maior_chuva} ({maior_precipitacao}mm)\")\n",
        "    print(f\"Dia com a menor temperatura: {dia_menor_temp} ({menor_temperatura}°C)\")\n",
        "    print(f\"Dias com temperatura máxima acima de 30°C e sem chuva: {', '.join(dias_sem_chuva_acima_30)}\")\n",
        "\n",
        "dados = [\n",
        "    \"2023-09-01: Máxima=32, Mínima=20, Chuva=0mm\",\n",
        "    \"2023-09-02: Máxima=30, Mínima=22, Chuva=5mm\",\n",
        "    \"2023-09-03: Máxima=33, Mínima=21, Chuva=0mm\",\n",
        "    \"2023-09-04: Máxima=28, Mínima=18, Chuva=1.2mm\",\n",
        "    \"2023-09-05: Máxima=29, Mínima=17, Chuva=0mm\",\n",
        "    \"2023-09-06: Máxima=34, Mínima=23, Chuva=0mm\",\n",
        "    \"2023-09-07: Máxima=31, Mínima=20, Chuva=0mm\"\n",
        "]\n",
        "\n",
        "analisa_meteorologia(dados)"
      ],
      "metadata": {
        "colab": {
          "base_uri": "https://localhost:8080/"
        },
        "id": "LvRDHXelhsfM",
        "outputId": "7ec5b511-c6c5-41f6-8587-9aab06302fc5"
      },
      "execution_count": null,
      "outputs": [
        {
          "output_type": "stream",
          "name": "stdout",
          "text": [
            "Média da temperatura máxima do mês: 31.00°C\n",
            "Média da temperatura mínima do mês: 20.14°C\n",
            "Dia com a maior precipitação: 2023-09-02 (5.0mm)\n",
            "Dia com a menor temperatura: 2023-09-05 (17°C)\n",
            "Dias com temperatura máxima acima de 30°C e sem chuva: 2023-09-01, 2023-09-03, 2023-09-06, 2023-09-07\n"
          ]
        }
      ]
    }
  ]
}