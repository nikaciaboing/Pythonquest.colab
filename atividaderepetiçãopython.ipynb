{
  "nbformat": 4,
  "nbformat_minor": 0,
  "metadata": {
    "colab": {
      "provenance": [],
      "authorship_tag": "ABX9TyOWN35pB4sTmGWvr6PKqtB+",
      "include_colab_link": true
    },
    "kernelspec": {
      "name": "python3",
      "display_name": "Python 3"
    },
    "language_info": {
      "name": "python"
    }
  },
  "cells": [
    {
      "cell_type": "markdown",
      "metadata": {
        "id": "view-in-github",
        "colab_type": "text"
      },
      "source": [
        "<a href=\"https://colab.research.google.com/github/nikaciaboing/Pythonquest.colab/blob/main/atividaderepeti%C3%A7%C3%A3opython.ipynb\" target=\"_parent\"><img src=\"https://colab.research.google.com/assets/colab-badge.svg\" alt=\"Open In Colab\"/></a>"
      ]
    },
    {
      "cell_type": "markdown",
      "source": [
        "1 Faça um algoritmo que:\n",
        "• leia 20 números inteiros;\n",
        "• escreva os números que são negativos;\n",
        "• escreva a média dos números positivos."
      ],
      "metadata": {
        "id": "3rUrNIkxon1U"
      }
    },
    {
      "cell_type": "code",
      "source": [
        "contador=0\n",
        "num=0\n",
        "soma=0\n",
        "while contador <5:\n",
        "  num=int(input(\"digite um número:\"))\n",
        "  soma=soma+num\n",
        "  contador= contador + 1\n",
        "  media=soma/num\n",
        "  if num < 0:\n",
        "    print(\"este numero é negativo\")\n",
        "\n",
        "print(\"a media dos numeros positivos é:\",media)"
      ],
      "metadata": {
        "id": "abT-Fc1monCe",
        "colab": {
          "base_uri": "https://localhost:8080/"
        },
        "outputId": "6cc69cb0-2773-4bf5-a639-fe9c0842518f"
      },
      "execution_count": null,
      "outputs": [
        {
          "output_type": "stream",
          "name": "stdout",
          "text": [
            "digite um número:7\n",
            "digite um número:8\n",
            "digite um número:4\n",
            "digite um número:2\n",
            "digite um número:-7\n",
            "este numero é negativo:\n",
            "a media dos numeros positivos é: -2.0\n"
          ]
        }
      ]
    },
    {
      "cell_type": "markdown",
      "source": [
        "2 Faça um algoritmo que leia 15 números inteiros e escreva, para cada número lido, se é\n",
        "par ou ímpar."
      ],
      "metadata": {
        "id": "Xr9Q-p_2oLZ5"
      }
    },
    {
      "cell_type": "code",
      "execution_count": null,
      "metadata": {
        "colab": {
          "base_uri": "https://localhost:8080/"
        },
        "id": "5X8corIyoJ--",
        "outputId": "9e9fef56-1f1d-467b-ea4c-60436fcf39f1"
      },
      "outputs": [
        {
          "output_type": "stream",
          "name": "stdout",
          "text": [
            "digite um numero:5\n",
            "o número 5 é ímpar\n",
            "digite um numero:2\n",
            "o número 2 é par\n",
            "digite um numero:4\n",
            "o número 4 é par\n",
            "digite um numero:8\n",
            "o número 8 é par\n",
            "digite um numero:6\n",
            "o número 6 é par\n"
          ]
        }
      ],
      "source": [
        "nume=0\n",
        "while nume < 5:\n",
        "    num=int(input('digite um numero:'))\n",
        "    if num % 2 ==0:\n",
        "        print(f'o número {num} é par')\n",
        "    else:\n",
        "        print(f'o número {num} é ímpar')\n",
        "\n",
        "    nume = nume+1"
      ]
    },
    {
      "cell_type": "markdown",
      "source": [
        "3 Dado um conjunto de valores inteiros positivos, determinar qual o menor e qual o\n",
        "maior valor do conjunto. Um número com valor “0” (zero) indica o fim dos dados e\n",
        "não deve ser considerado."
      ],
      "metadata": {
        "id": "7BWN489Voa5C"
      }
    },
    {
      "cell_type": "code",
      "source": [
        "num=1\n",
        "maior=-9999\n",
        "menor=9999\n",
        "while num!= 0:\n",
        "  num=int(input('digite um numero:'))\n",
        "  if num != 0:\n",
        "    if num < menor:\n",
        "      menor=num\n",
        "    if num > maior :\n",
        "      maior=num\n",
        "\n",
        "print(\"o maior numero é:\", maior)\n",
        "print(\"o menor numero é:\", menor)"
      ],
      "metadata": {
        "id": "rgBiY21TodLW",
        "colab": {
          "base_uri": "https://localhost:8080/"
        },
        "outputId": "bac45367-bb04-48a4-c992-0efbc388f3b6"
      },
      "execution_count": null,
      "outputs": [
        {
          "output_type": "stream",
          "name": "stdout",
          "text": [
            "digite um numero:8\n",
            "digite um numero:9\n",
            "digite um numero:6\n",
            "digite um numero:7\n",
            "digite um numero:0\n",
            "o maior numero é: 9\n",
            "o menor numero é: 6\n"
          ]
        }
      ]
    },
    {
      "cell_type": "markdown",
      "source": [
        "4 Faça um algoritmo que calcule e escreva a soma dos números pares e a soma dos\n",
        "números ímpares entre 1 e 100."
      ],
      "metadata": {
        "id": "jWde9iqiowah"
      }
    },
    {
      "cell_type": "code",
      "source": [
        "num=0\n",
        "somapar=0\n",
        "somaimpar=0\n",
        "while num <=100:\n",
        "  if num%2 == 0:\n",
        "    somapar=somapar+num\n",
        "  else:\n",
        "    somaimpar=somaimpar+num\n",
        "\n",
        "  num=num+1\n",
        "\n",
        "print('A soma dos números pares é:', somapar)\n",
        "print('A soma dos números ímpares é:', somaimpar)"
      ],
      "metadata": {
        "colab": {
          "base_uri": "https://localhost:8080/"
        },
        "id": "yQSBYpXBo0nU",
        "outputId": "468649c8-b4bb-4fb8-fb5d-b955047cc458"
      },
      "execution_count": null,
      "outputs": [
        {
          "output_type": "stream",
          "name": "stdout",
          "text": [
            "A soma dos números pares é: 2550\n",
            "A soma dos números ímpares é: 2500\n"
          ]
        }
      ]
    },
    {
      "cell_type": "markdown",
      "source": [
        "5 Faça um algoritmo que leia a altura de 20 pessoas e calcule a média aritmética das\n",
        "alturas."
      ],
      "metadata": {
        "id": "M5dOdzYTvHEH"
      }
    },
    {
      "cell_type": "code",
      "source": [
        "contador = 0\n",
        "soma = 0\n",
        "while contador  <5:\n",
        "  altura=float(input('digite sua altura:'))\n",
        "  soma = soma+ altura\n",
        "  contador = contador + 1\n",
        "\n",
        "media= soma/altura\n",
        "print('a media das alturas é:', media)"
      ],
      "metadata": {
        "id": "qUbtwBBGvNqE",
        "colab": {
          "base_uri": "https://localhost:8080/"
        },
        "outputId": "9bc54537-4234-4351-d741-fa230bcfd252"
      },
      "execution_count": null,
      "outputs": [
        {
          "output_type": "stream",
          "name": "stdout",
          "text": [
            "digite sua altura:4\n",
            "digite sua altura:1.80\n",
            "digite sua altura:1.20\n",
            "digite sua altura:3\n",
            "digite sua altura:5.80\n",
            "a media das alturas é: 2.724137931034483\n"
          ]
        }
      ]
    },
    {
      "cell_type": "markdown",
      "source": [
        "6 faça um algoritmo que leia N valores e escreva quantos desses valores são negativos"
      ],
      "metadata": {
        "id": "pRZqPSiihN_0"
      }
    },
    {
      "cell_type": "code",
      "source": [
        "contador = 0\n",
        "num=0\n",
        "while contador < 4:\n",
        "  num=int(input('digite um valor:'))\n",
        "  contador =contador + 1\n",
        "  if num < 0:\n",
        "   print(\"este valor é negativo:\")\n"
      ],
      "metadata": {
        "id": "wf3iFYkohOeh",
        "colab": {
          "base_uri": "https://localhost:8080/"
        },
        "outputId": "9f6b8f19-acd9-48d7-caa4-30112d2d2307"
      },
      "execution_count": null,
      "outputs": [
        {
          "name": "stdout",
          "output_type": "stream",
          "text": [
            "digite um valor:34\n",
            "digite um valor:-6897\n",
            "este valor é negativo:\n",
            "digite um valor:-695968\n",
            "este valor é negativo:\n",
            "digite um valor:898\n"
          ]
        }
      ]
    },
    {
      "cell_type": "markdown",
      "source": [
        "8. Faça um algoritmo que leia n pares de valores, sendo o primeiro valor o número de\n",
        "inscrição do atleta e o segundo a altura (em cm) do atleta. Escreva:\n",
        "• o número de inscrição e a altura do atleta mais alto;\n",
        "• o número de inscrição e a altura do atleta mais baixo;\n",
        "• a altura média do grupo de atletas."
      ],
      "metadata": {
        "id": "X3uSK5f-nfMG"
      }
    },
    {
      "cell_type": "code",
      "source": [
        "def main():\n",
        "    n = int(input(\"Digite o numero de atletas: \"))\n",
        "    maxaltura = -1\n",
        "    minaltura = float('inf')\n",
        "    nummax = 0\n",
        "    nummin = 0\n",
        "    somaalturas = 0\n",
        "    for i in range(n):\n",
        "        numinscricao = int(input(f\"Digite o numero de inscrição do atleta {i+1}: \"))\n",
        "        altura = float(input(f\"Digite a altura do atleta {i+1} : \"))\n",
        "        if altura > maxaltura:\n",
        "            maxaltura = altura\n",
        "            nummax = numinscricao\n",
        "        if altura < minaltura:\n",
        "            minaltura = altura\n",
        "            nummin = numinscricao\n",
        "\n",
        "\n",
        "        somaalturas += altura\n",
        "    alturamedia = somaalturas / n\n",
        "\n",
        "    print(f\"Número de inscrição e altura do atleta mais alto: {nummax}, {maxaltura} cm\")\n",
        "    print(f\"Número de inscrição e altura do atleta mais baixo: {nummin}, {minaltura} cm\")\n",
        "    print(f\"Altura média do grupo de atletas: {alturamedia} cm\")\n",
        "\n",
        "if __name__ == \"__main__\":\n",
        "    main()"
      ],
      "metadata": {
        "id": "nvtNU4c4niLt",
        "colab": {
          "base_uri": "https://localhost:8080/"
        },
        "outputId": "ab8b6b05-b4c8-4a47-9a4e-0d250b75f019"
      },
      "execution_count": null,
      "outputs": [
        {
          "output_type": "stream",
          "name": "stdout",
          "text": [
            "Digite o numero de atletas: 1\n",
            "Digite o numero de inscrição do atleta 1: 123\n",
            "Digite a altura do atleta 1 : 2\n",
            "Número de inscrição e altura do atleta mais alto: 123, 2.0 cm\n",
            "Número de inscrição e altura do atleta mais baixo: 123, 2.0 cm\n",
            "Altura média do grupo de atletas: 2.0 cm\n"
          ]
        }
      ]
    },
    {
      "cell_type": "markdown",
      "source": [
        "10. Construir um algoritmo que calcule o fatorial de um número N."
      ],
      "metadata": {
        "id": "rLH_g4HOtjsM"
      }
    },
    {
      "cell_type": "code",
      "source": [
        "import math\n",
        "def fatorial(numero):\n",
        "    if numero < 0:\n",
        "        print(\"O fatorial não funciona com numeros negativos.\")\n",
        "    else:\n",
        "        fatorial = 1\n",
        "        for i in range(1, numero + 1):\n",
        "            fatorial *= i\n",
        "\n",
        "        print(f\"O fatorial de {numero} é: {fatorial}\")\n",
        "\n",
        "numero = int(input(\"Digite um número inteiro para calcular o fatorial: \"))\n",
        "fatorial(numero)"
      ],
      "metadata": {
        "id": "7vyi_3KVtlXf",
        "colab": {
          "base_uri": "https://localhost:8080/"
        },
        "outputId": "392be7f1-5672-4a47-b1da-a35e80e1cb7f"
      },
      "execution_count": null,
      "outputs": [
        {
          "output_type": "stream",
          "name": "stdout",
          "text": [
            "Digite um número inteiro para calcular o fatorial: -10\n",
            "O fatorial não funciona com numeros negativos.\n"
          ]
        }
      ]
    },
    {
      "cell_type": "markdown",
      "source": [
        "11. Faça um algoritmo que calcule e escreva a soma da seguinte série de 100 termos:"
      ],
      "metadata": {
        "id": "khe_XUaAsBsJ"
      }
    },
    {
      "cell_type": "code",
      "source": [
        "soma=0\n",
        "for i in range(0,100):\n",
        "  soma= soma+i\n",
        "\n",
        "print(\"a soma é:\",soma)"
      ],
      "metadata": {
        "colab": {
          "base_uri": "https://localhost:8080/"
        },
        "id": "v5l7RITNsSVG",
        "outputId": "331b2462-20d4-429a-a2e6-f4955f1ded68"
      },
      "execution_count": null,
      "outputs": [
        {
          "output_type": "stream",
          "name": "stdout",
          "text": [
            "a soma é: 4950\n"
          ]
        }
      ]
    },
    {
      "cell_type": "markdown",
      "source": [
        "22. Faça um algoritmo que:\n",
        "• leia, para n pessoas, a altura e o sexo (sexo = 'M' ou sexo = 'm' para masculino e\n",
        "sexo = 'F' ou sexo = 'f' para feminino);\n",
        "• escreva a média da altura das mulheres;\n",
        "• escreva a média da altura da turma."
      ],
      "metadata": {
        "id": "8XYyq8UDuFSA"
      }
    },
    {
      "cell_type": "code",
      "source": [
        "num = int(input(\"Digite o número de pessoas: \"))\n",
        "mulher = 0\n",
        "turma = 0\n",
        "quantmulher = 0\n",
        "\n",
        "for i in range(num) :\n",
        "    altura = float(input(f\"Digite a altura da pessoa {i+1}: \"))\n",
        "    sexo = input(f\"Digite o sexo da pessoa {i+1} (M/F): \")\n",
        "    turma = turma + altura\n",
        "\n",
        "    if sexo == 'F':\n",
        "        mulher += altura\n",
        "        quantmulher += 1\n",
        "\n",
        "mediamulher = mulher / quantmulher\n",
        "medalturma = turma / num\n",
        "\n",
        "print(f\"Média da altura das mulheres: {mediamulher:.2f} metros\")\n",
        "print(f\"Média da altura da turma: {medalturma:.2f} metros\")"
      ],
      "metadata": {
        "id": "B_PeZ68EuGXo",
        "colab": {
          "base_uri": "https://localhost:8080/"
        },
        "outputId": "7d8133b4-4cc2-4ff7-bea0-00431b05e233"
      },
      "execution_count": null,
      "outputs": [
        {
          "output_type": "stream",
          "name": "stdout",
          "text": [
            "Digite o número de pessoas: 2\n",
            "Digite a altura da pessoa 1: 2.80\n",
            "Digite o sexo da pessoa 1 (M/F): M\n",
            "Digite a altura da pessoa 2: 2\n",
            "Digite o sexo da pessoa 2 (M/F): F\n",
            "Média da altura das mulheres: 2.00 metros\n",
            "Média da altura da turma: 2.40 metros\n"
          ]
        }
      ]
    },
    {
      "cell_type": "markdown",
      "source": [
        "23. Uma loja de departamentos oferece para seus clientes um determinado desconto de\n",
        "acordo com o valor da compra efetuada. O desconto é de 20% caso o valor da compra\n",
        "seja maior que R$ 500,00 e de 15% caso seja menor ou igual. Faça um algoritmo que\n",
        "leia, para cada cliente, nome, endereço e valor da compra e escreva o total a pagar.\n",
        "Um nome de cliente igual a ULTIMO indica o fim da entrada de dados."
      ],
      "metadata": {
        "id": "VAB2QB1Ini1t"
      }
    },
    {
      "cell_type": "code",
      "source": [
        "def calcular(cliente, endereco, valcompra):\n",
        "    if valcompra > 500:\n",
        "        desconto = valcompra * 0.2\n",
        "    else:\n",
        "        desconto = valcompra * 0.15\n",
        "\n",
        "    pagar = valcompra - desconto\n",
        "\n",
        "    print(f\"\\nCliente: {cliente}\")\n",
        "    print(f\"Endereço: {endereco}\")\n",
        "    print(f\"Total a pagar: R$ {pagar:.2f}\\n\")\n",
        "\n",
        "clientenome = input(\"Digite o nome do cliente (ou 'ULTIMO' para sair): \")\n",
        "\n",
        "while clientenome != \"ULTIMO\":\n",
        "    enderecow = input(\"Digite o endereço do cliente: \")\n",
        "    valcompra = float(input(\"Digite o valor da compra: R$ \"))\n",
        "\n",
        "    calcular(clientenome, endereco, valcompra)\n",
        "\n",
        "    clientenome = input(\"Digite o nome do próximo cliente (ou 'ULTIMO' para sair): \")\n",
        "\n",
        "print(\"Programa encerrado.\")"
      ],
      "metadata": {
        "id": "MIdvcfmvuoga",
        "colab": {
          "base_uri": "https://localhost:8080/"
        },
        "outputId": "b908c6c2-4bb4-49e2-bee5-f2d16aa2f795"
      },
      "execution_count": null,
      "outputs": [
        {
          "output_type": "stream",
          "name": "stdout",
          "text": [
            "Digite o nome do cliente (ou 'ULTIMO' para sair): duda\n",
            "Digite o endereço do cliente: rua\n",
            "Digite o valor da compra: R$ 400000\n",
            "\n",
            "Cliente: duda\n",
            "Endereço: eref\n",
            "Total a pagar: R$ 320000.00\n",
            "\n",
            "Digite o nome do próximo cliente (ou 'ULTIMO' para sair): ULTIMO\n",
            "Programa encerrado.\n"
          ]
        }
      ]
    },
    {
      "cell_type": "markdown",
      "source": [
        "24. Faça um algoritmo que leia valores, sendo que cada valor representa a idade de uma\n",
        "pessoa. Calcule e escreva a idade média do grupo de pessoas. Só devem ser\n",
        "computados no cálculo valores maiores do que zero. O algoritmo deve apresentar ao\n",
        "usuário a seguinte mensagem:\n",
        "deseja digitar mais um valor: s (SIM) / n (NAO)?,\n",
        "antes de prosseguir com a entrada de dados."
      ],
      "metadata": {
        "id": "jrVujhQIuxX-"
      }
    },
    {
      "cell_type": "code",
      "source": [
        "# variaveis\n",
        "somaidade = 0\n",
        "pessoas = 0\n",
        "\n",
        "# Loop\n",
        "while True:\n",
        "    idadepess = input(\"Digite a idade da pessoa (ou digite 0 para parar): \")\n",
        "    idade = int(idadepess)\n",
        "\n",
        "    if idade > 0:\n",
        "        somaidade += idade\n",
        "        pessoas += 1\n",
        "    elif idade == 0:\n",
        "        break\n",
        "    else:\n",
        "        print(\"Idade inválida. Digite um valor maior que zero.\")\n",
        "        continue\n",
        "\n",
        "    continuar = input(\"Deseja digitar mais um valor? (s/N): \")\n",
        "    if continuar.lower() != 's':\n",
        "        break\n",
        "# Verificando\n",
        "if pessoas > 0:\n",
        "    idademedia = somaidade / pessoas\n",
        "    print(f\"A idade média do grupo é: {idademedia:.2f}\")\n",
        "else:\n",
        "    print(\"Nenhuma idade válida foi inserida.\")"
      ],
      "metadata": {
        "id": "T6CXdIMCuwU3",
        "colab": {
          "base_uri": "https://localhost:8080/"
        },
        "outputId": "0bda7812-be1c-4689-9497-396e7b48eb80"
      },
      "execution_count": null,
      "outputs": [
        {
          "output_type": "stream",
          "name": "stdout",
          "text": [
            "Digite a idade da pessoa (ou digite 0 para parar): 2\n",
            "Deseja digitar mais um valor? (s/N): s\n",
            "Digite a idade da pessoa (ou digite 0 para parar): 0\n",
            "A idade média do grupo é: 2.00\n"
          ]
        }
      ]
    },
    {
      "cell_type": "markdown",
      "source": [
        "26. Um determinado material radioativo perde metade de sua massa a cada 50 segundos.\n",
        "Dada a sua massa inicial em Kg, faça um algoritmo que determine o tempo necessário\n",
        "para que essa massa se torne menor que 0,5 gramas. Escreva a massa inicial, a massa\n",
        "final e o tempo."
      ],
      "metadata": {
        "id": "ZRgk2kDEvPlR"
      }
    },
    {
      "cell_type": "code",
      "source": [
        "\n",
        "massa = float(input(\"Digite a massa do material em Kg: \"))\n",
        "\n",
        "massaatual = massa * 1000\n",
        "temposegs = 0\n",
        "\n",
        "while massaatual >= 0.5:\n",
        "    massaatual /= 2\n",
        "    temposegs += 50\n",
        "\n",
        "tempomin = temposegs / 60\n",
        "massafinalkg = massaatual / 1000\n",
        "\n",
        "\n",
        "print(f\"Massa inicial: {massa} Kg\")\n",
        "print(f\"Massa final: {massafinalkg:.9f} Kg\")\n",
        "print(f\"Tempo necessário: {tempomin:.2f} minutos\")"
      ],
      "metadata": {
        "id": "nw9OdCN2wIsa",
        "colab": {
          "base_uri": "https://localhost:8080/"
        },
        "outputId": "00d7538b-2624-414f-8ed5-029040746c5f"
      },
      "execution_count": null,
      "outputs": [
        {
          "output_type": "stream",
          "name": "stdout",
          "text": [
            "Digite a massa do material em Kg: 20\n",
            "Massa inicial: 20.0 Kg\n",
            "Massa final: 0.000305176 Kg\n",
            "Tempo necessário: 13.33 minutos\n"
          ]
        }
      ]
    },
    {
      "cell_type": "markdown",
      "source": [],
      "metadata": {
        "id": "fgy8iM9L1LaX"
      }
    }
  ]
}