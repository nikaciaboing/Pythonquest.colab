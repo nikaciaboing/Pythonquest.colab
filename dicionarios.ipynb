{
  "nbformat": 4,
  "nbformat_minor": 0,
  "metadata": {
    "colab": {
      "provenance": [],
      "authorship_tag": "ABX9TyOtRg+dJsZiw//LMw5H8ra/",
      "include_colab_link": true
    },
    "kernelspec": {
      "name": "python3",
      "display_name": "Python 3"
    },
    "language_info": {
      "name": "python"
    }
  },
  "cells": [
    {
      "cell_type": "markdown",
      "metadata": {
        "id": "view-in-github",
        "colab_type": "text"
      },
      "source": [
        "<a href=\"https://colab.research.google.com/github/nikaciaboing/Pythonquest.colab/blob/main/dicionarios.ipynb\" target=\"_parent\"><img src=\"https://colab.research.google.com/assets/colab-badge.svg\" alt=\"Open In Colab\"/></a>"
      ]
    },
    {
      "cell_type": "markdown",
      "source": [
        "1. Crie um dicionário que contenha os nomes de 10 pessoas e suas respectivas\n",
        "idades."
      ],
      "metadata": {
        "id": "9pYYk4GpTDjO"
      }
    },
    {
      "cell_type": "code",
      "execution_count": null,
      "metadata": {
        "id": "h7tuuBLJTAOm"
      },
      "outputs": [],
      "source": [
        "pessoas={\n",
        "    \"maria\": 20,\n",
        "    \"lara\": 30,\n",
        "    \"kemely\": 25,\n",
        "    \"julia\": 15,\n",
        "    \"mirella\": 18,\n",
        "    \"ana\": 12,\n",
        "    \"matheus\": 22,\n",
        "    \"leandro\": 34,\n",
        "    \"clara\": 19,\n",
        "    \"felipe\": 23\n",
        "}"
      ]
    },
    {
      "cell_type": "markdown",
      "source": [
        "2. Imprima o nome e a idade de todas as pessoas no dicionário."
      ],
      "metadata": {
        "id": "AzoRevzhUS2g"
      }
    },
    {
      "cell_type": "code",
      "source": [
        "pessoas={\n",
        "    \"maria\": 20,\n",
        "    \"lara\": 30,\n",
        "    \"kemely\": 25,\n",
        "    \"julia\": 15,\n",
        "    \"mirella\": 18,\n",
        "    \"ana\": 12,\n",
        "    \"matheus\": 22,\n",
        "    \"leandro\": 34,\n",
        "    \"clara\": 19,\n",
        "    \"felipe\": 23\n",
        "}\n",
        "\n",
        "print(pessoas)"
      ],
      "metadata": {
        "colab": {
          "base_uri": "https://localhost:8080/"
        },
        "id": "6b0eOaunUTS3",
        "outputId": "7d4927cc-bd65-4f47-e0ef-e2413988a3ec"
      },
      "execution_count": null,
      "outputs": [
        {
          "output_type": "stream",
          "name": "stdout",
          "text": [
            "{'maria': 20, 'lara': 30, 'kemely': 25, 'julia': 15, 'mirella': 18, 'ana': 12, 'matheus': 22, 'leandro': 34, 'clara': 19, 'felipe': 23}\n"
          ]
        }
      ]
    },
    {
      "cell_type": "markdown",
      "source": [
        "3. Crie uma função que receba um nome como parâmetro e retorne a idade da\n",
        "pessoa correspondente no dicionário."
      ],
      "metadata": {
        "id": "KK3u6yCnUgh8"
      }
    },
    {
      "cell_type": "code",
      "source": [
        "pessoas={\n",
        "    \"maria\": 20,\n",
        "    \"lara\": 30,\n",
        "    \"kemely\": 25,\n",
        "    \"julia\": 15,\n",
        "    \"mirella\": 18,\n",
        "    \"ana\": 12,\n",
        "    \"matheus\": 22,\n",
        "    \"leandro\": 34,\n",
        "    \"clara\": 19,\n",
        "    \"felipe\": 23\n",
        "}\n",
        "def buscaridade(nome):\n",
        "    return pessoas.get(nome, \"Nome não encontrado\")\n",
        "\n",
        "print(buscaridade(\"lara\"))\n",
        "print(buscaridade(\"felipe\"))"
      ],
      "metadata": {
        "colab": {
          "base_uri": "https://localhost:8080/"
        },
        "id": "_qOsFluqUgKC",
        "outputId": "f9cd6065-49e4-40dc-d777-abdf042c6991"
      },
      "execution_count": null,
      "outputs": [
        {
          "output_type": "stream",
          "name": "stdout",
          "text": [
            "30\n",
            "23\n"
          ]
        }
      ]
    },
    {
      "cell_type": "markdown",
      "source": [
        "4. Crie uma função que receba um nome e uma nova idade como parâmetros e\n",
        "atualize a idade da pessoa correspondente no dicionário."
      ],
      "metadata": {
        "id": "IFYeSh1KWR01"
      }
    },
    {
      "cell_type": "code",
      "source": [
        "pessoas={\n",
        "    \"maria\": 20,\n",
        "    \"lara\": 30,\n",
        "    \"kemely\": 25,\n",
        "    \"julia\": 15,\n",
        "    \"mirella\": 18,\n",
        "    \"ana\": 12,\n",
        "    \"matheus\": 22,\n",
        "    \"leandro\": 34,\n",
        "    \"clara\": 19,\n",
        "    \"felipe\": 23\n",
        "}\n",
        "\n",
        "def atualizaridade (nome, novaidade):\n",
        " if nome in pessoas:\n",
        "  pessoas[nome] = novaidade\n",
        "  return f\"idade de {nome} atualizada para {novaidade}.\"\n",
        " else:\n",
        "  return \"nome não encontrado.\"\n",
        "\n",
        "print(atualizaridade(\"julia\", 18))\n",
        "print(atualizaridade(\"matheus\", 24))\n",
        "print(atualizaridade(\"clara\",22))"
      ],
      "metadata": {
        "colab": {
          "base_uri": "https://localhost:8080/"
        },
        "id": "gLrrzoPvWUce",
        "outputId": "0a3febcd-67cd-4a27-ad62-cb94ce97debc"
      },
      "execution_count": null,
      "outputs": [
        {
          "output_type": "stream",
          "name": "stdout",
          "text": [
            "idade de julia atualizada para 18.\n",
            "idade de matheus atualizada para 24.\n",
            "idade de clara atualizada para 22.\n"
          ]
        }
      ]
    },
    {
      "cell_type": "markdown",
      "source": [
        "5. Crie uma função que remova uma pessoa do dicionário."
      ],
      "metadata": {
        "id": "uXSXSknIZCdV"
      }
    },
    {
      "cell_type": "code",
      "source": [
        "pessoas={\n",
        "    \"maria\": 20,\n",
        "    \"lara\": 30,\n",
        "    \"kemely\": 25,\n",
        "    \"julia\": 15,\n",
        "    \"mirella\": 18,\n",
        "    \"ana\": 12,\n",
        "    \"matheus\": 22,\n",
        "    \"leandro\": 34,\n",
        "    \"clara\": 19,\n",
        "    \"felipe\": 23\n",
        "}\n",
        "def removerpessoa(nome):\n",
        " if nome in pessoas:\n",
        "  del pessoas[nome]\n",
        "  return f\"{nome} foi removido do dicionario.\"\n",
        " else:\n",
        "  return \"nome não encontrado\"\n",
        "\n",
        "print(removerpessoa(\"ana\"))\n",
        "print(removerpessoa(\"leandro\"))\n",
        "print(removerpessoa(\"sintia\"))"
      ],
      "metadata": {
        "colab": {
          "base_uri": "https://localhost:8080/"
        },
        "id": "PQrbRrsdZFHu",
        "outputId": "5f2f8c3d-7104-44d3-f4d7-a4115a8059cb"
      },
      "execution_count": null,
      "outputs": [
        {
          "output_type": "stream",
          "name": "stdout",
          "text": [
            "ana foi removido do dicionario.\n",
            "leandro foi removido do dicionario.\n",
            "nome não encontrado\n"
          ]
        }
      ]
    },
    {
      "cell_type": "markdown",
      "source": [
        "6. Crie uma função que retorne a quantidade de pessoas no dicionário."
      ],
      "metadata": {
        "id": "ahm9jtatdOIx"
      }
    },
    {
      "cell_type": "code",
      "source": [
        "pessoas={\n",
        "    \"maria\": 20,\n",
        "    \"lara\": 30,\n",
        "    \"kemely\": 25,\n",
        "    \"julia\": 15,\n",
        "    \"mirella\": 18,\n",
        "    \"ana\": 12,\n",
        "    \"matheus\": 22,\n",
        "    \"leandro\": 34,\n",
        "    \"clara\": 19,\n",
        "    \"felipe\": 23\n",
        "}\n",
        "def removerpessoa(nome):\n",
        " if nome in pessoas:\n",
        "  del pessoas[nome]\n",
        "  return f\"{nome} foi removido do dicionario.\"\n",
        " else:\n",
        "  return \"nome não encontrado\"\n",
        "\n",
        "print(removerpessoa(\"ana\"))\n",
        "print(removerpessoa(\"leandro\"))\n",
        "print(removerpessoa(\"sintia\"))\n",
        "\n",
        "def quantpessoas():\n",
        "    return len(pessoas)\n",
        "print(quantpessoas())"
      ],
      "metadata": {
        "colab": {
          "base_uri": "https://localhost:8080/"
        },
        "id": "SlIgpg0YdSmf",
        "outputId": "e30c8898-4f84-415e-f3d6-36410f6744a1"
      },
      "execution_count": null,
      "outputs": [
        {
          "output_type": "stream",
          "name": "stdout",
          "text": [
            "ana foi removido do dicionario.\n",
            "leandro foi removido do dicionario.\n",
            "nome não encontrado\n",
            "8\n"
          ]
        }
      ]
    },
    {
      "cell_type": "markdown",
      "source": [
        "7. Crie uma função que retorne a média das idades das pessoas no dicionário."
      ],
      "metadata": {
        "id": "ModUeZfCe9FI"
      }
    },
    {
      "cell_type": "code",
      "source": [
        "pessoas={\n",
        "    \"maria\": 20,\n",
        "    \"lara\": 30,\n",
        "    \"kemely\": 25,\n",
        "    \"julia\": 15,\n",
        "    \"mirella\": 18,\n",
        "    \"ana\": 12,\n",
        "    \"matheus\": 22,\n",
        "    \"leandro\": 34,\n",
        "    \"clara\": 19,\n",
        "    \"felipe\": 23\n",
        "}\n",
        "def mediaidades():\n",
        "    if len(pessoas) == 0:\n",
        "        return \"O dicionário está vazio.\"\n",
        "    totalidades = sum(pessoas.values())\n",
        "    media = totalidades / len(pessoas)\n",
        "    return media\n",
        "\n",
        "print(mediaidades())"
      ],
      "metadata": {
        "colab": {
          "base_uri": "https://localhost:8080/"
        },
        "id": "kCNK90cQfHm9",
        "outputId": "54daa876-d124-4197-fb3d-b5acf8a479fd"
      },
      "execution_count": null,
      "outputs": [
        {
          "output_type": "stream",
          "name": "stdout",
          "text": [
            "21.8\n"
          ]
        }
      ]
    },
    {
      "cell_type": "markdown",
      "source": [
        "8. Crie uma função que retorne a pessoa mais velha do dicionário."
      ],
      "metadata": {
        "id": "aGgDrh89fMCf"
      }
    },
    {
      "cell_type": "code",
      "source": [
        "pessoas={\n",
        "    \"maria\": 20,\n",
        "    \"lara\": 30,\n",
        "    \"kemely\": 25,\n",
        "    \"julia\": 15,\n",
        "    \"mirella\": 18,\n",
        "    \"ana\": 12,\n",
        "    \"matheus\": 22,\n",
        "    \"leandro\": 34,\n",
        "    \"clara\": 19,\n",
        "    \"felipe\": 23\n",
        "}\n",
        "def maisvelha():\n",
        "    if len(pessoas) == 0:\n",
        "        return \"O dicionário está vazio.\"\n",
        "    mais_velha = max(pessoas, key=pessoas.get)\n",
        "    return mais_velha, pessoas[mais_velha]\n",
        "\n",
        "nome, idade = maisvelha()\n",
        "print(f\"A pessoa mais velha é {nome}, com {idade} anos.\")"
      ],
      "metadata": {
        "colab": {
          "base_uri": "https://localhost:8080/"
        },
        "id": "3VN9YWTyfMfr",
        "outputId": "9fcb8b7f-ebf4-4839-c9c9-6cb4db492833"
      },
      "execution_count": null,
      "outputs": [
        {
          "output_type": "stream",
          "name": "stdout",
          "text": [
            "A pessoa mais velha é leandro, com 34 anos.\n"
          ]
        }
      ]
    },
    {
      "cell_type": "markdown",
      "source": [
        "9. Crie uma função que retorne a pessoa mais nova do dicionário."
      ],
      "metadata": {
        "id": "7b9DSHG4f2TY"
      }
    },
    {
      "cell_type": "code",
      "source": [
        "pessoas={\n",
        "    \"maria\": 20,\n",
        "    \"lara\": 30,\n",
        "    \"kemely\": 25,\n",
        "    \"julia\": 15,\n",
        "    \"mirella\": 18,\n",
        "    \"ana\": 12,\n",
        "    \"matheus\": 22,\n",
        "    \"leandro\": 34,\n",
        "    \"clara\": 19,\n",
        "    \"felipe\": 23\n",
        "}\n",
        "def maisnova():\n",
        "    if len(pessoas) == 0:\n",
        "        return \"O dicionário está vazio.\"\n",
        "    mais_nova = min(pessoas, key=pessoas.get)\n",
        "    return mais_nova, pessoas[mais_nova]\n",
        "\n",
        "nome, idade = maisnova()\n",
        "print(f\"A pessoa mais nova é {nome}, com {idade} anos.\")"
      ],
      "metadata": {
        "colab": {
          "base_uri": "https://localhost:8080/"
        },
        "id": "G41GbVJrf163",
        "outputId": "e1520547-14e7-44f3-cc4c-3a3391ec5d2f"
      },
      "execution_count": null,
      "outputs": [
        {
          "output_type": "stream",
          "name": "stdout",
          "text": [
            "A pessoa mais nova é ana, com 12 anos.\n"
          ]
        }
      ]
    },
    {
      "cell_type": "markdown",
      "source": [
        "10. Crie uma função que retorne uma lista com as pessoas cujo nome começa com a\n",
        "letra \"J\"."
      ],
      "metadata": {
        "id": "qKAuDS8Of7B0"
      }
    },
    {
      "cell_type": "code",
      "source": [
        "pessoas={\n",
        "    \"Maria\": 20,\n",
        "    \"Lara\": 30,\n",
        "    \"Kemely\": 25,\n",
        "    \"Julia\": 15,\n",
        "    \"Mirella\": 18,\n",
        "    \"Ana\": 12,\n",
        "    \"Matheus\": 22,\n",
        "    \"Leandro\": 34,\n",
        "    \"Clara\": 19,\n",
        "    \"Felipe\": 23\n",
        "}\n",
        "def pessoascomj():\n",
        "    lista_J = [nome for nome in pessoas if nome.startswith(\"J\")]\n",
        "    return lista_J\n",
        "\n",
        "print(pessoascomj())"
      ],
      "metadata": {
        "colab": {
          "base_uri": "https://localhost:8080/"
        },
        "id": "HzNnBAG3f6ME",
        "outputId": "6299a0bc-e8e6-494c-8622-ba59a390d84b"
      },
      "execution_count": null,
      "outputs": [
        {
          "output_type": "stream",
          "name": "stdout",
          "text": [
            "['Julia']\n"
          ]
        }
      ]
    }
  ]
}