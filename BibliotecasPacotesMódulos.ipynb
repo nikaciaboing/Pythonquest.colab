{
  "nbformat": 4,
  "nbformat_minor": 0,
  "metadata": {
    "colab": {
      "provenance": [],
      "authorship_tag": "ABX9TyOvzXkcSvrEY7zJy+k67wIU",
      "include_colab_link": true
    },
    "kernelspec": {
      "name": "python3",
      "display_name": "Python 3"
    },
    "language_info": {
      "name": "python"
    }
  },
  "cells": [
    {
      "cell_type": "markdown",
      "metadata": {
        "id": "view-in-github",
        "colab_type": "text"
      },
      "source": [
        "<a href=\"https://colab.research.google.com/github/nikaciaboing/Pythonquest.colab/blob/main/BibliotecasPacotesM%C3%B3dulos.ipynb\" target=\"_parent\"><img src=\"https://colab.research.google.com/assets/colab-badge.svg\" alt=\"Open In Colab\"/></a>"
      ]
    },
    {
      "cell_type": "markdown",
      "source": [
        "1. Importe o módulo math e calcule a raiz quadrada de um número inteiro."
      ],
      "metadata": {
        "id": "8-UPlCJVHgPd"
      }
    },
    {
      "cell_type": "code",
      "source": [
        "import math\n",
        "\n",
        "numero = 25\n",
        "raizQuadrada = math.sqrt(numero)\n",
        "\n",
        "print(f\"A raiz quadrada de {numero} é {raizQuadrada}\")"
      ],
      "metadata": {
        "colab": {
          "base_uri": "https://localhost:8080/"
        },
        "id": "zive5wGzHiPc",
        "outputId": "36bbd6f1-751d-4070-c22c-746d1eca4c43"
      },
      "execution_count": null,
      "outputs": [
        {
          "output_type": "stream",
          "name": "stdout",
          "text": [
            "A raiz quadrada de 25 é 5.0\n"
          ]
        }
      ]
    },
    {
      "cell_type": "markdown",
      "source": [
        "2. Importe o módulo datetime e exiba a data e hora atuais."
      ],
      "metadata": {
        "id": "DA2EFfI5HxCM"
      }
    },
    {
      "cell_type": "code",
      "source": [
        "import datetime\n",
        "\n",
        "dataHoraAtuais = datetime.datetime.now()\n",
        "\n",
        "print(f\"A data e hora atuais são: {dataHoraAtuais}\")"
      ],
      "metadata": {
        "colab": {
          "base_uri": "https://localhost:8080/"
        },
        "id": "Tmf1oy9_H0ID",
        "outputId": "bd17d1ca-00e8-4056-e928-a7c3cf3d8c75"
      },
      "execution_count": null,
      "outputs": [
        {
          "output_type": "stream",
          "name": "stdout",
          "text": [
            "A data e hora atuais são: 2024-12-02 11:27:24.819511\n"
          ]
        }
      ]
    },
    {
      "cell_type": "markdown",
      "source": [
        "3. Use o módulo string para verificar se uma string contém apenas dígitos."
      ],
      "metadata": {
        "id": "Ll0gKQmdH2i6"
      }
    },
    {
      "cell_type": "code",
      "source": [
        "import string\n",
        "\n",
        "def contemApenasDigitos(s):\n",
        "    return all(caractere in string.digits for caractere in s)\n",
        "\n",
        "stringTeste = \"123456\"\n",
        "resultado = contemApenasDigitos(stringTeste)\n",
        "\n",
        "print(f\"A string '{stringTeste}' contém apenas dígitos? {resultado}\")"
      ],
      "metadata": {
        "colab": {
          "base_uri": "https://localhost:8080/"
        },
        "id": "zpaTPh6BH3Jo",
        "outputId": "c92b6edf-46b6-49e9-df70-bc3f034b03b0"
      },
      "execution_count": null,
      "outputs": [
        {
          "output_type": "stream",
          "name": "stdout",
          "text": [
            "A string '123456' contém apenas dígitos? True\n"
          ]
        }
      ]
    },
    {
      "cell_type": "markdown",
      "source": [
        "4. Importe o módulo random e gere um número aleatório entre 1 e 100."
      ],
      "metadata": {
        "id": "IaS-RwmnIQUC"
      }
    },
    {
      "cell_type": "code",
      "source": [
        "import random\n",
        "\n",
        "numeroAleatorio = random.randint(1, 100)\n",
        "\n",
        "print(f\"O número aleatório entre 1 e 100 é: {numeroAleatorio}\")"
      ],
      "metadata": {
        "colab": {
          "base_uri": "https://localhost:8080/"
        },
        "id": "4mfO0LrZIOt3",
        "outputId": "5e27f764-c286-4306-fcc2-783c8cfd76a3"
      },
      "execution_count": null,
      "outputs": [
        {
          "output_type": "stream",
          "name": "stdout",
          "text": [
            "O número aleatório entre 1 e 100 é: 50\n"
          ]
        }
      ]
    },
    {
      "cell_type": "markdown",
      "source": [
        "5. Importe a biblioteca numpy e crie uma array com os números de 1 a 10."
      ],
      "metadata": {
        "id": "r_W-nNBoIife"
      }
    },
    {
      "cell_type": "code",
      "source": [
        "import numpy as np\n",
        "\n",
        "array = np.arange(1, 11)\n",
        "\n",
        "print(\"Array com os números de 1 a 10:\", array)"
      ],
      "metadata": {
        "colab": {
          "base_uri": "https://localhost:8080/"
        },
        "id": "wtU7Aj8hImfa",
        "outputId": "a9bbb668-85e3-444b-a868-c95099d93807"
      },
      "execution_count": null,
      "outputs": [
        {
          "output_type": "stream",
          "name": "stdout",
          "text": [
            "Array com os números de 1 a 10: [ 1  2  3  4  5  6  7  8  9 10]\n"
          ]
        }
      ]
    },
    {
      "cell_type": "markdown",
      "source": [
        "6. Escreva um programa que importe o pacote numpy e crie uma matriz de zeros\n",
        "com dimensões 3x3."
      ],
      "metadata": {
        "id": "iY2tgnKuIoKM"
      }
    },
    {
      "cell_type": "code",
      "source": [
        "import numpy as np\n",
        "\n",
        "matrizZeros = np.zeros((3, 3))\n",
        "\n",
        "print(\"Matriz de zeros 3x3:\")\n",
        "print(matrizZeros)"
      ],
      "metadata": {
        "colab": {
          "base_uri": "https://localhost:8080/"
        },
        "id": "DJ9l7e_WIwwF",
        "outputId": "2a142272-d5a1-4c7e-b552-3e0a2fcb983b"
      },
      "execution_count": null,
      "outputs": [
        {
          "output_type": "stream",
          "name": "stdout",
          "text": [
            "Matriz de zeros 3x3:\n",
            "[[0. 0. 0.]\n",
            " [0. 0. 0.]\n",
            " [0. 0. 0.]]\n"
          ]
        }
      ]
    },
    {
      "cell_type": "markdown",
      "source": [
        "7. Importe a biblioteca matplotlib e crie um gráfico de barras simples com alguns\n",
        "dados fictícios."
      ],
      "metadata": {
        "id": "Os2XuKe3IzJT"
      }
    },
    {
      "cell_type": "code",
      "source": [
        "import matplotlib.pyplot as plt\n",
        "\n",
        "categorias = ['A', 'B', 'C', 'D', 'E']\n",
        "valores = [10, 20, 15, 25, 30]\n",
        "\n",
        "plt.bar(categorias, valores)\n",
        "\n",
        "plt.title('Gráfico de Barras Simples')\n",
        "plt.xlabel('Categorias')\n",
        "plt.ylabel('Valores')\n",
        "\n",
        "plt.show()"
      ],
      "metadata": {
        "colab": {
          "base_uri": "https://localhost:8080/",
          "height": 472
        },
        "id": "FLUs1QxoI5_9",
        "outputId": "626c4a82-d68d-4374-992c-c3d143091256"
      },
      "execution_count": null,
      "outputs": [
        {
          "output_type": "display_data",
          "data": {
            "text/plain": [
              "<Figure size 640x480 with 1 Axes>"
            ],
            "image/png": "[encoded data removed]"
          },
          "metadata": {}
        }
      ]
    },
    {
      "cell_type": "markdown",
      "source": [
        "8. Escreva um programa que importe o pacote matplotlib e plote a função seno."
      ],
      "metadata": {
        "id": "L8JOWC0MI79I"
      }
    },
    {
      "cell_type": "code",
      "source": [
        "import numpy as np\n",
        "import matplotlib.pyplot as plt\n",
        "\n",
        "x = np.linspace(0, 2 * np.pi, 100)\n",
        "\n",
        "y = np.sin(x)\n",
        "\n",
        "plt.plot(x, y)\n",
        "\n",
        "plt.title('Gráfico da Função Seno')\n",
        "plt.xlabel('x')\n",
        "plt.ylabel('sin(x)')\n",
        "\n",
        "plt.show()"
      ],
      "metadata": {
        "colab": {
          "base_uri": "https://localhost:8080/",
          "height": 472
        },
        "id": "UK4A0xbGI8uK",
        "outputId": "9d037b06-9b46-4f53-be9d-d1190dd1a25e"
      },
      "execution_count": null,
      "outputs": [
        {
          "output_type": "display_data",
          "data": {
            "text/plain": [
              "<Figure size 640x480 with 1 Axes>"
            ],
            "image/png": "[encoded data removed]"
          },
          "metadata": {}
        }
      ]
    },
    {
      "cell_type": "markdown",
      "source": [
        "9. Importe o pacote requests e faça uma requisição HTTP para um URL e exiba o\n",
        "código de status."
      ],
      "metadata": {
        "id": "jVmUziBaI9E8"
      }
    },
    {
      "cell_type": "code",
      "source": [
        "import requests\n",
        "\n",
        "url = \"https://www.example.com\"\n",
        "resposta = requests.get(url)\n",
        "\n",
        "print(f\"O código de status da requisição para {url} é: {resposta.status_code}\")"
      ],
      "metadata": {
        "colab": {
          "base_uri": "https://localhost:8080/"
        },
        "id": "V0tt5-6fJL93",
        "outputId": "8694a60a-becb-4d3a-a7be-ca6a845f1a25"
      },
      "execution_count": null,
      "outputs": [
        {
          "output_type": "stream",
          "name": "stdout",
          "text": [
            "O código de status da requisição para https://www.example.com é: 200\n"
          ]
        }
      ]
    },
    {
      "cell_type": "markdown",
      "source": [
        "10. Importe a biblioteca pandas, leia um arquivo CSV (por exemplo, \"dados.csv\") e\n",
        "exiba as primeiras linhas do DataFrame."
      ],
      "metadata": {
        "id": "6hApwJopJas7"
      }
    },
    {
      "cell_type": "code",
      "source": [
        "import pandas as pd\n",
        "\n",
        "from google.colab import files\n",
        "uploaded = files.upload()\n",
        "\n",
        "df = pd.read_csv(\"dados.csv\")\n",
        "\n",
        "print(df.head())"
      ],
      "metadata": {
        "id": "0BUA3kHEJbnH"
      },
      "execution_count": null,
      "outputs": []
    },
    {
      "cell_type": "markdown",
      "source": [
        "11. Escreva um programa que importe o módulo os e imprima o diretório de trabalho\n",
        "atual."
      ],
      "metadata": {
        "id": "yIGvgsCeKelS"
      }
    },
    {
      "cell_type": "code",
      "source": [
        "import os\n",
        "\n",
        "diretorio_atual = os.getcwd()\n",
        "\n",
        "print(f\"O diretório de trabalho atual é: {diretorio_atual}\")"
      ],
      "metadata": {
        "colab": {
          "base_uri": "https://localhost:8080/"
        },
        "id": "8ZTGbWBSKWFw",
        "outputId": "b2923069-e782-450c-c3e7-f6796953fb5a"
      },
      "execution_count": null,
      "outputs": [
        {
          "output_type": "stream",
          "name": "stdout",
          "text": [
            "O diretório de trabalho atual é: /content\n"
          ]
        }
      ]
    },
    {
      "cell_type": "markdown",
      "source": [
        "12. Escreva um programa que importe o pacote beautifulsoup4 e faça a raspagem\n",
        "de dados (web crawling) de uma página HTML."
      ],
      "metadata": {
        "id": "eWoAqtFnKveR"
      }
    },
    {
      "cell_type": "code",
      "source": [
        "import requests\n",
        "from bs4 import BeautifulSoup\n",
        "\n",
        "url = \"https://www.example.com\"\n",
        "\n",
        "response = requests.get(url)\n",
        "\n",
        "if response.status_code == 200:\n",
        "    soup = BeautifulSoup(response.content, \"html.parser\")\n",
        "\n",
        "    paragrafos = soup.find_all('p')\n",
        "\n",
        "    for p in paragrafos:\n",
        "        print(p.get_text())\n",
        "else:\n",
        "    print(f\"Falha ao acessar a página. Código de status: {response.status_code}\")"
      ],
      "metadata": {
        "id": "g7S0GYJGKxF2"
      },
      "execution_count": null,
      "outputs": []
    },
    {
      "cell_type": "markdown",
      "source": [
        "13. Crie um módulo personalizado chamado de calculadora com uma função que\n",
        "some dois números. Em seguida, importe e use essa função."
      ],
      "metadata": {
        "id": "nFsuocVaKxhe"
      }
    },
    {
      "cell_type": "code",
      "source": [
        "%%writefile calculadora.py\n",
        "\n",
        "def soma(a, b):\n",
        "    return a + b"
      ],
      "metadata": {
        "colab": {
          "base_uri": "https://localhost:8080/"
        },
        "id": "NImr0LgrOzDS",
        "outputId": "0b75ba67-320e-466f-c21f-ac499414805f"
      },
      "execution_count": null,
      "outputs": [
        {
          "output_type": "stream",
          "name": "stdout",
          "text": [
            "Overwriting calculadora.py\n"
          ]
        }
      ]
    },
    {
      "cell_type": "code",
      "source": [
        "import calculadora\n",
        "\n",
        "resultado= calculadora.soma(5,3)\n",
        "print(f\"A soma de 5 e 3 é: {resultado}\")"
      ],
      "metadata": {
        "colab": {
          "base_uri": "https://localhost:8080/"
        },
        "id": "EtKkcOEMPi2j",
        "outputId": "a795c31d-e99d-47e7-f24a-9ba246fe61a7"
      },
      "execution_count": null,
      "outputs": [
        {
          "output_type": "stream",
          "name": "stdout",
          "text": [
            "A soma de 5 e 3 é: 8\n"
          ]
        }
      ]
    },
    {
      "cell_type": "markdown",
      "source": [
        "14. Suponha que estamos desenvolvendo um jogo. Uma possível organização de\n",
        "pacotes e módulos poderia ser mostrada na figura abaixo."
      ],
      "metadata": {
        "id": "6mTESpLjKzmV"
      }
    },
    {
      "cell_type": "markdown",
      "source": [
        "Nota: Um diretório deve conter um arquivo chamado __init__.py para que o\n",
        "Python o considere um pacote. Este arquivo pode ser deixado vazio, mas\n",
        "geralmente colocamos o código de inicialização desse pacote neste arquivo.\n",
        "\n",
        "Baseado na figura acima, execute os comandos necessários que se seguem.\n",
        "a) Importar o módulo start"
      ],
      "metadata": {
        "id": "-X0kqimXK1y0"
      }
    },
    {
      "cell_type": "code",
      "source": [
        "import os\n",
        "\n",
        "os.makedirs(\"game/Sound\", exist_ok=True)\n",
        "os.makedirs(\"game/Image\", exist_ok=True)\n",
        "os.makedirs(\"game/Level\", exist_ok=True)\n",
        "\n",
        "with open(\"game/__init__.py\", \"w\") as f:\n",
        "    f.write(\"\")\n",
        "\n",
        "with open(\"game/Sound/__init__.py\", \"w\") as f:\n",
        "    f.write(\"\")\n",
        "\n",
        "with open(\"game/Image/__init__.py\", \"w\") as f:\n",
        "    f.write(\"\")\n",
        "\n",
        "with open(\"game/Level/__init__.py\", \"w\") as f:\n",
        "    f.write(\"\")"
      ],
      "metadata": {
        "id": "RWqXbT_ZK6wn"
      },
      "execution_count": null,
      "outputs": []
    },
    {
      "cell_type": "code",
      "source": [
        "%%writefile game/Level/start.py\n",
        "\n",
        "def iniciar_jogo():\n",
        "    print(\"Iniciando o jogo!\")\n",
        "\n",
        "def select_dificulty():\n",
        "    print(\"Selecionando a dificuldade do jogo!\")"
      ],
      "metadata": {
        "colab": {
          "base_uri": "https://localhost:8080/"
        },
        "id": "DLYccLFSTON_",
        "outputId": "7b287ca5-6365-434e-c33c-83d045ed2001"
      },
      "execution_count": null,
      "outputs": [
        {
          "output_type": "stream",
          "name": "stdout",
          "text": [
            "Overwriting game/Level/start.py\n"
          ]
        }
      ]
    },
    {
      "cell_type": "code",
      "source": [
        "from game.Level.start import iniciar_jogo\n",
        "\n",
        "iniciar_jogo()"
      ],
      "metadata": {
        "colab": {
          "base_uri": "https://localhost:8080/"
        },
        "id": "UOxVA6hRTVHd",
        "outputId": "da3cfb99-9d8e-4c08-c6bf-631a3e1a871c"
      },
      "execution_count": null,
      "outputs": [
        {
          "output_type": "stream",
          "name": "stdout",
          "text": [
            "Iniciando o jogo!\n"
          ]
        }
      ]
    },
    {
      "cell_type": "markdown",
      "source": [
        "b) Suponha que este módulo (i.e. start), contém uma função chamada\n",
        "select_dificulty(). Qual o comando para importá-lo?"
      ],
      "metadata": {
        "id": "ZExKUCkyK6_z"
      }
    },
    {
      "cell_type": "code",
      "source": [
        "%%writefile game/Level/start.py\n",
        "\n",
        "def iniciar_jogo():\n",
        "    print(\"Iniciando o jogo!\")\n",
        "\n",
        "def select_dificulty():\n",
        "    print(\"Selecionando a dificuldade do jogo!\")"
      ],
      "metadata": {
        "colab": {
          "base_uri": "https://localhost:8080/"
        },
        "id": "I-LnwAnLXHet",
        "outputId": "28795e99-e3eb-4383-cb0b-163cd4f1f593"
      },
      "execution_count": null,
      "outputs": [
        {
          "output_type": "stream",
          "name": "stdout",
          "text": [
            "Overwriting game/Level/start.py\n"
          ]
        }
      ]
    },
    {
      "cell_type": "code",
      "source": [
        "from game.Level.start import select_dificulty\n",
        "\n",
        "select_dificulty()"
      ],
      "metadata": {
        "id": "MmVPCxotXwWO"
      },
      "execution_count": null,
      "outputs": []
    },
    {
      "cell_type": "markdown",
      "source": [
        "c) Importe o módulo change sem usar o prefixo do pacote"
      ],
      "metadata": {
        "id": "mY_M6LBLK9fF"
      }
    },
    {
      "cell_type": "code",
      "source": [
        "%%writefile game/Image/change.py\n",
        "\n",
        "def alterar_imagem():\n",
        "    print(\"Alterando imagem!\")"
      ],
      "metadata": {
        "colab": {
          "base_uri": "https://localhost:8080/"
        },
        "id": "UDDDdfrRYH45",
        "outputId": "1b6b2080-08f0-4396-a759-aaa86a4b709b"
      },
      "execution_count": null,
      "outputs": [
        {
          "output_type": "stream",
          "name": "stdout",
          "text": [
            "Overwriting game/Image/change.py\n"
          ]
        }
      ]
    },
    {
      "cell_type": "code",
      "source": [
        "import sys\n",
        "\n",
        "sys.path.append(\"/content/game/Image\")\n",
        "\n",
        "import change\n",
        "\n",
        "change.alterar_imagem()"
      ],
      "metadata": {
        "colab": {
          "base_uri": "https://localhost:8080/"
        },
        "id": "rp7pOUwpYMyK",
        "outputId": "07556a32-e3a6-4860-f445-eaa1a61e1e2d"
      },
      "execution_count": null,
      "outputs": [
        {
          "output_type": "stream",
          "name": "stdout",
          "text": [
            "Alterando imagem!\n"
          ]
        }
      ]
    },
    {
      "cell_type": "markdown",
      "source": [
        "d) Agora escreva o comando para importar o módulo play"
      ],
      "metadata": {
        "id": "hkB63XZYK_Yv"
      }
    },
    {
      "cell_type": "code",
      "source": [
        "%%writefile game/Sound/play.py\n",
        "\n",
        "def play_sound():\n",
        "    print(\"Tocando som!\")"
      ],
      "metadata": {
        "id": "lDnnv-KYLCqB",
        "colab": {
          "base_uri": "https://localhost:8080/"
        },
        "outputId": "55db5869-fc94-43c5-e73b-2af8f7588ea5"
      },
      "execution_count": null,
      "outputs": [
        {
          "output_type": "stream",
          "name": "stdout",
          "text": [
            "Writing game/Sound/play.py\n"
          ]
        }
      ]
    },
    {
      "cell_type": "code",
      "source": [
        "from game.Sound import play\n",
        "\n",
        "play.play_sound()"
      ],
      "metadata": {
        "colab": {
          "base_uri": "https://localhost:8080/"
        },
        "id": "9QzEkCAIYkPj",
        "outputId": "0a7c1afb-7c88-419e-db8e-48037994e8d5"
      },
      "execution_count": null,
      "outputs": [
        {
          "output_type": "stream",
          "name": "stdout",
          "text": [
            "Tocando som!\n"
          ]
        }
      ]
    }
  ]
}