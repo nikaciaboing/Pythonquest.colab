{
  "nbformat": 4,
  "nbformat_minor": 0,
  "metadata": {
    "colab": {
      "provenance": [],
      "authorship_tag": "ABX9TyM5jUYSlG2u/+ur+e4J357B",
      "include_colab_link": true
    },
    "kernelspec": {
      "name": "python3",
      "display_name": "Python 3"
    },
    "language_info": {
      "name": "python"
    }
  },
  "cells": [
    {
      "cell_type": "markdown",
      "metadata": {
        "id": "view-in-github",
        "colab_type": "text"
      },
      "source": [
        "<a href=\"https://colab.research.google.com/github/nikaciaboing/Pythonquest.colab/blob/main/tarefas.ipynb\" target=\"_parent\"><img src=\"https://colab.research.google.com/assets/colab-badge.svg\" alt=\"Open In Colab\"/></a>"
      ]
    },
    {
      "cell_type": "code",
      "execution_count": null,
      "metadata": {
        "colab": {
          "base_uri": "https://localhost:8080/"
        },
        "id": "sklL7D-qFfB4",
        "outputId": "4d66cdee-ef45-4c4d-bbb6-bbc108e9101b"
      },
      "outputs": [
        {
          "output_type": "stream",
          "name": "stdout",
          "text": [
            "digite um numero: 2\n",
            "digite outro numero: 2\n",
            "soma = 4\n"
          ]
        }
      ],
      "source": [
        "num1 = int(input(\"digite um numero: \"))\n",
        "num2 = int(input(\"digite outro numero: \"))\n",
        "\n",
        "# fase de processamneto\n",
        "soma = num1 + num2\n",
        "\n",
        "# fase de saida\n",
        "print(\"soma =\", soma)"
      ]
    },
    {
      "cell_type": "markdown",
      "source": [
        "\n",
        "Escreva um programa que leia um valor em metros e o exiba convertido em milímetros."
      ],
      "metadata": {
        "id": "ANJGLNwcDQgh"
      }
    },
    {
      "cell_type": "code",
      "source": [
        "#entrada\n",
        "metros=float(input('digite o valor em metros: '))\n",
        "#processo\n",
        "mm= metros*1000\n",
        "#saida\n",
        "print(\"o valor\", metros, \"metros tem\", mm, \"milimetros\")"
      ],
      "metadata": {
        "colab": {
          "base_uri": "https://localhost:8080/"
        },
        "id": "buenYTL7DVwT",
        "outputId": "6d01fa65-4388-4fc3-8a99-734bc654bd2e"
      },
      "execution_count": 1,
      "outputs": [
        {
          "output_type": "stream",
          "name": "stdout",
          "text": [
            "digite o valor em metros: 1000\n",
            "o valor 1000.0 metros tem 1000000.0 milimetros\n"
          ]
        }
      ]
    },
    {
      "cell_type": "code",
      "source": [
        "# fase de entrada\n",
        "dia = int(input(\"coloque os dias: \"))\n",
        "horas = int(input(\"coloque as horas: \"))\n",
        "min = int(input(\"coloque os minutos: \"))\n",
        "seg = int(input(\"coloque os segundos: \"))\n",
        "\n",
        "# fase de processamento\n",
        "seg_in_day= dia * 864000\n",
        "seg_in_horas= horas * 3600\n",
        "seg_in_min= min * 60\n",
        "\n",
        "soma = seg_in_day + seg_in_horas + seg_in_min + seg\n",
        "\n",
        "#fase de saida\n",
        "print(\"o tempo em segundos é =\", soma)"
      ],
      "metadata": {
        "colab": {
          "base_uri": "https://localhost:8080/"
        },
        "id": "I3eUrLQbFvZQ",
        "outputId": "74690be8-2696-45ad-beff-9a98e5972a7a"
      },
      "execution_count": null,
      "outputs": [
        {
          "output_type": "stream",
          "name": "stdout",
          "text": [
            "coloque os dias: 4\n",
            "coloque as horas: 1\n",
            "coloque os minutos: 1\n",
            "coloque os segundos: 1\n",
            "o tempo em segundos é = 3459661\n"
          ]
        }
      ]
    },
    {
      "cell_type": "markdown",
      "source": [
        "Faça um programa que calcule o aumento de um salário. Ele deve solicitar o valor do salário e a\n",
        "porcentagem do aumento. Exiba o valor do aumento e do novo salário."
      ],
      "metadata": {
        "id": "SN9bNp9Iif7m"
      }
    },
    {
      "cell_type": "code",
      "source": [
        "# fase de entrada\n",
        "salario = float(input(\"valor do salario (%): \"))\n",
        "porcentagem = float(input(\"porcentagem do aumento : \"))\n",
        "\n",
        "# fase de processamento\n",
        "aumento= salario * porcentagem / 100\n",
        "novo= salario + aumento\n",
        "\n",
        "#fase de saida\n",
        "print(f'aumento: R$ {aumento:.2f}')\n",
        "print(f'salario: R$ {novo:.2f}')"
      ],
      "metadata": {
        "id": "Vj3fic2xN8V7",
        "colab": {
          "base_uri": "https://localhost:8080/"
        },
        "outputId": "38337da5-df54-4ed8-e0de-497b64c3d482"
      },
      "execution_count": null,
      "outputs": [
        {
          "output_type": "stream",
          "name": "stdout",
          "text": [
            "valor do salario (%): 1000\n",
            "porcentagem do aumento : 15\n",
            "aumento: R$ 150.00\n",
            "salario: R$ 1150.00\n"
          ]
        }
      ]
    },
    {
      "cell_type": "markdown",
      "source": [
        "Solicite o preço de uma mercadoria e o percentual de desconto. Exiba o valor do desconto e o preço a\n",
        "pagar."
      ],
      "metadata": {
        "id": "VSbMFHJviqj7"
      }
    },
    {
      "cell_type": "code",
      "source": [
        "# fase 1\n",
        "mercadoria = float(input(\"valor da mercadoria: \"))\n",
        "desconto = float(input(\"valor do desconto: \"))\n",
        "\n",
        "# processamneto\n",
        "desconto= mercadoria*desconto/100\n",
        "pagar= mercadoria-desconto\n",
        "\n",
        "#saida\n",
        "print(f'desconto: R$ {desconto:.2f}')\n",
        "print(f'pagar: R$ {pagar:.2f}')"
      ],
      "metadata": {
        "colab": {
          "base_uri": "https://localhost:8080/"
        },
        "id": "SWw9LqQzivWp",
        "outputId": "026e43b6-5b11-4a9c-bffd-a681ac24403f"
      },
      "execution_count": null,
      "outputs": [
        {
          "output_type": "stream",
          "name": "stdout",
          "text": [
            "valor da mercadoria: 1000\n",
            "valor do desconto: 10\n",
            "desconto: R$ 100.00\n",
            "pagar: R$ 900.00\n"
          ]
        }
      ]
    },
    {
      "cell_type": "markdown",
      "source": [
        "Calcule o tempo de uma viagem de carro. Pergunte a distância a percorrer e a velocidade média\n",
        "esperada para a viagem."
      ],
      "metadata": {
        "id": "fsw2tSVplXxk"
      }
    },
    {
      "cell_type": "code",
      "source": [
        "# fase de entrada\n",
        "velo_m=float(input(\"velocidade media km/h: \"))\n",
        "distancia=float(input(\"distancia a percorrer km: \"))\n",
        "\n",
        "#processo\n",
        "tempo= distancia/velo_m\n",
        "\n",
        "#saida\n",
        "print(f'tempo=  {tempo:.3}')"
      ],
      "metadata": {
        "colab": {
          "base_uri": "https://localhost:8080/"
        },
        "id": "KUhLoBsolY7J",
        "outputId": "a6236103-e662-4566-eb5e-c6272f2908ae"
      },
      "execution_count": null,
      "outputs": [
        {
          "output_type": "stream",
          "name": "stdout",
          "text": [
            "velocidade media km/h: 20\n",
            "distancia a percorrer km: 100\n",
            "tempo=  5.0\n"
          ]
        }
      ]
    },
    {
      "cell_type": "markdown",
      "source": [
        "Converta uma temperatura digitada em Celsius para Fahrenheit. F = 9*C/5 + 32 . Faça agora o\n",
        "contrário, de Fahrenheit para Celsius."
      ],
      "metadata": {
        "id": "0WgIJiJ3y3_w"
      }
    },
    {
      "cell_type": "code",
      "source": [
        "#entrada\n",
        "cel= float(input('entre com a temperatura em celcius: '))\n",
        "#processo\n",
        "fh= 9/5*cel + 32\n",
        "#saida\n",
        "print (f'{fh:.2f} fahrenheit')\n",
        "print(\"temperatura\",cel,\"celsius =\",fh, \"fahrenheit\")"
      ],
      "metadata": {
        "colab": {
          "base_uri": "https://localhost:8080/"
        },
        "id": "DvrCubg9y7y8",
        "outputId": "f7ded091-3cc0-435f-ffe7-a36f13266c43"
      },
      "execution_count": null,
      "outputs": [
        {
          "output_type": "stream",
          "name": "stdout",
          "text": [
            "entre com a temperatura em celcius: 30\n",
            "86.00 fahrenheit\n",
            "temperatura 30.0 celsius = 86.0 fahrenheit\n"
          ]
        }
      ]
    },
    {
      "cell_type": "markdown",
      "source": [
        "Escreva um programa que pergunte a quantidade de km percorridos por um carro alugado pelo usuário,\n",
        "assim como a quantidade de dias pelos quais o carro foi alugado. Calcule o preço a pagar, sabendo que o\n",
        "carro custa R$ 60,00 por dia e R$ 0,15 por km rodado."
      ],
      "metadata": {
        "id": "4hzwe-Ii0Pts"
      }
    },
    {
      "cell_type": "code",
      "source": [
        "km= float(input('quantos km foram percorridos?: '))\n",
        "dias= float(input('foi alugado por quantos dias?: '))\n",
        "\n",
        "valor = 60*dias\n",
        "p_km =  0.15*km\n",
        "pagar = valor+p_km\n",
        "print(\"o valor a pagar é =\", pagar)"
      ],
      "metadata": {
        "colab": {
          "base_uri": "https://localhost:8080/"
        },
        "id": "sOE_1THI0T6t",
        "outputId": "c5b99a6e-ddff-4d23-b31c-761b0fd02809"
      },
      "execution_count": 2,
      "outputs": [
        {
          "output_type": "stream",
          "name": "stdout",
          "text": [
            "quantos km foram percorridos?: 30\n",
            "foi alugado por quantos dias?: 2\n",
            "o valor a pagar é = 124.5\n"
          ]
        }
      ]
    },
    {
      "cell_type": "markdown",
      "source": [
        "Escreva um programa para calcular a redução do tempo de vida de um fumante. Pergunte a quantidade\n",
        "de cigarros fumados por dia e quantos anos ele já fumou. Considere que um fumante perde 10 minutos\n",
        "de vida a cada cigarro, calcule quantos dias de vida um fumante perderá. Exiba o total de dias."
      ],
      "metadata": {
        "id": "R7OpsmiI-cON"
      }
    },
    {
      "cell_type": "code",
      "source": [
        "dia=int(input('quantos cigarros voce fuma por dia?: '))\n",
        "ano=int(input('a quantos anos voce fuma?: '))\n",
        "\n",
        "tempo_m = ano*365*dia*10\n",
        "dia = 24*60\n",
        "reducao = tempo_m/dia\n",
        "\n",
        "print(\"tempo reduzido =\", reducao)"
      ],
      "metadata": {
        "colab": {
          "base_uri": "https://localhost:8080/"
        },
        "id": "QCQq-dWI-d6O",
        "outputId": "35a464c2-047f-4364-b089-594d810387b9"
      },
      "execution_count": 3,
      "outputs": [
        {
          "output_type": "stream",
          "name": "stdout",
          "text": [
            "quantos cigarros voce fuma por dia?: 2\n",
            "a quantos anos voce fuma?: 5\n",
            "tempo reduzido = 25.34722222222222\n"
          ]
        }
      ]
    },
    {
      "cell_type": "markdown",
      "source": [
        "Sabendo que str( ) converte valores numéricos para string, calcule quantos dígitos há em 2 elevado a um\n",
        "milhão."
      ],
      "metadata": {
        "id": "r0FaOZ_gC7g6"
      }
    },
    {
      "cell_type": "code",
      "source": [
        "import sys\n",
        "sys.set_int_max_str_digits(0)\n",
        "\n",
        "print (len(str(2**1000000)))"
      ],
      "metadata": {
        "colab": {
          "base_uri": "https://localhost:8080/"
        },
        "id": "1TDY9OC-C8bH",
        "outputId": "e910d767-58cf-4abf-d05b-93de8bd8e1c9"
      },
      "execution_count": 4,
      "outputs": [
        {
          "output_type": "stream",
          "name": "stdout",
          "text": [
            "301030\n"
          ]
        }
      ]
    },
    {
      "cell_type": "markdown",
      "source": [
        "o começo da ultima é apenas para preparar o colab para o resultado"
      ],
      "metadata": {
        "id": "4Zti8LWgEp1B"
      }
    }
  ]
}