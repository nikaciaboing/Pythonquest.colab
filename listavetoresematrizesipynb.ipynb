{
  "nbformat": 4,
  "nbformat_minor": 0,
  "metadata": {
    "colab": {
      "provenance": [],
      "authorship_tag": "ABX9TyM0VA8/uNriMqe91Spr43wk",
      "include_colab_link": true
    },
    "kernelspec": {
      "name": "python3",
      "display_name": "Python 3"
    },
    "language_info": {
      "name": "python"
    }
  },
  "cells": [
    {
      "cell_type": "markdown",
      "metadata": {
        "id": "view-in-github",
        "colab_type": "text"
      },
      "source": [
        "<a href=\"https://colab.research.google.com/github/nikaciaboing/Pythonquest.colab/blob/main/listavetoresematrizesipynb.ipynb\" target=\"_parent\"><img src=\"https://colab.research.google.com/assets/colab-badge.svg\" alt=\"Open In Colab\"/></a>"
      ]
    },
    {
      "cell_type": "markdown",
      "source": [
        "1) Inicializar um vetor de inteiros com números de 0 a 99."
      ],
      "metadata": {
        "id": "TBLYOL_dj0EY"
      }
    },
    {
      "cell_type": "code",
      "execution_count": null,
      "metadata": {
        "colab": {
          "base_uri": "https://localhost:8080/"
        },
        "id": "hiVzJB_2jpZM",
        "outputId": "b6e5e13a-807b-4f9f-810a-4862de05b274"
      },
      "outputs": [
        {
          "output_type": "stream",
          "name": "stdout",
          "text": [
            "[0, 1, 2, 3, 4, 5, 6, 7, 8, 9, 10, 11, 12, 13, 14, 15, 16, 17, 18, 19, 20, 21, 22, 23, 24, 25, 26, 27, 28, 29, 30, 31, 32, 33, 34, 35, 36, 37, 38, 39, 40, 41, 42, 43, 44, 45, 46, 47, 48, 49, 50, 51, 52, 53, 54, 55, 56, 57, 58, 59, 60, 61, 62, 63, 64, 65, 66, 67, 68, 69, 70, 71, 72, 73, 74, 75, 76, 77, 78, 79, 80, 81, 82, 83, 84, 85, 86, 87, 88, 89, 90, 91, 92, 93, 94, 95, 96, 97, 98, 99]\n"
          ]
        }
      ],
      "source": [
        "vetor = list(range(100))\n",
        "print(vetor)"
      ]
    },
    {
      "cell_type": "markdown",
      "source": [
        "2) Escreva um algoritmo que leia um conjunto de 10 notas, armazene-as em uma variável\n",
        "composta chamada NOTA e calcule e imprima a sua média."
      ],
      "metadata": {
        "id": "hZD_Zxzpjybr"
      }
    },
    {
      "cell_type": "code",
      "source": [
        "notas = []\n",
        "for i in range(10):\n",
        "    nota = float(input(f\"Digite a nota {i+1}: \"))\n",
        "    notas.append(nota)\n",
        "\n",
        "media = sum(notas) / len(notas)\n",
        "print(f\"A média das notas é: {media:.2f}\")"
      ],
      "metadata": {
        "colab": {
          "base_uri": "https://localhost:8080/"
        },
        "id": "MVEwGXgLkNkr",
        "outputId": "2112d643-32b3-4aa4-ed0f-8d415f363602"
      },
      "execution_count": null,
      "outputs": [
        {
          "output_type": "stream",
          "name": "stdout",
          "text": [
            "Digite a nota 1: 9\n",
            "Digite a nota 2: 7\n",
            "Digite a nota 3: 4\n",
            "Digite a nota 4: 3\n",
            "Digite a nota 5: 2\n",
            "Digite a nota 6: 7\n",
            "Digite a nota 7: 9\n",
            "Digite a nota 8: 9\n",
            "Digite a nota 9: 7\n",
            "Digite a nota 10: 9\n",
            "A média das notas é: 6.60\n"
          ]
        }
      ]
    },
    {
      "cell_type": "markdown",
      "source": [
        "3) Repita o algoritmo acima, porém imprima quantos valores estão acima da média."
      ],
      "metadata": {
        "id": "wJLEYS-_kZjB"
      }
    },
    {
      "cell_type": "code",
      "source": [
        "notas = []\n",
        "for i in range(10):\n",
        "    nota = float(input(f\"Digite a nota {i+1}: \"))\n",
        "    notas.append(nota)\n",
        "\n",
        "media = sum(notas) / len(notas)\n",
        "acimamedia = sum(1 for nota in notas if nota > media)\n",
        "\n",
        "print(f\"A média das notas é: {media:.2f}\")\n",
        "print(f\"Quantidade de notas acima da média: {acimamedia}\")"
      ],
      "metadata": {
        "colab": {
          "base_uri": "https://localhost:8080/"
        },
        "id": "9hjxBQVnk3cg",
        "outputId": "28e93f1e-8d6e-46ac-d0b7-9c12a8e221ee"
      },
      "execution_count": null,
      "outputs": [
        {
          "output_type": "stream",
          "name": "stdout",
          "text": [
            "Digite a nota 1: 9\n",
            "Digite a nota 2: 8\n",
            "Digite a nota 3: 9\n",
            "Digite a nota 4: 0\n",
            "Digite a nota 5: 7\n",
            "Digite a nota 6: 5\n",
            "Digite a nota 7: 4\n",
            "Digite a nota 8: 8\n",
            "Digite a nota 9: 9\n",
            "Digite a nota 10: 7\n",
            "A média das notas é: 6.60\n",
            "Quantidade de notas acima da média: 7\n"
          ]
        }
      ]
    },
    {
      "cell_type": "markdown",
      "source": [
        "4) Faça um algoritmo que leia um vetor que contém as notas de 30 alunos. Imprima o maior\n",
        "valor, o menor valor, a média da turma e a quantidade de notas abaixo da média."
      ],
      "metadata": {
        "id": "qz9C_76RlUDp"
      }
    },
    {
      "cell_type": "code",
      "source": [
        "notas = []\n",
        "for i in range(30):\n",
        "    nota = float(input(f\"Digite a nota do aluno {i+1}: \"))\n",
        "    notas.append(nota)\n",
        "\n",
        "maior = max(notas)\n",
        "menor = min(notas)\n",
        "media = sum(notas) / len(notas)\n",
        "abaixo = sum(1 for nota in notas if nota < media)\n",
        "\n",
        "print(f\"A maior nota é: {maior:.2f}\")\n",
        "print(f\"A menor nota é: {menor:.2f}\")\n",
        "print(f\"A média das notas é: {media:.2f}\")\n",
        "print(f\"Quantidade de notas abaixo da média: {abaixo}\")"
      ],
      "metadata": {
        "id": "vgqMreillW56"
      },
      "execution_count": null,
      "outputs": []
    },
    {
      "cell_type": "markdown",
      "source": [
        "5) Ler um vetor de 100 elementos numéricos e verificar se existem elementos iguais a 30. Se\n",
        "existirem, escrever as posições em que estão armazenados."
      ],
      "metadata": {
        "id": "ZGObZ3KZmAZz"
      }
    },
    {
      "cell_type": "code",
      "source": [
        "vetor = []\n",
        "for i in range(100):\n",
        "    elemento = float(input(f\"Digite o elemento {i+1}: \"))\n",
        "    vetor.append(elemento)\n",
        "\n",
        "print(\"Posições dos elementos iguais a 30:\")\n",
        "encontrado = False\n",
        "for i in range(100):\n",
        "    if vetor[i] == 30:\n",
        "        print(i)\n",
        "        encontrado = True\n",
        "\n",
        "if not encontrado:\n",
        "    print(\"Não há elementos iguais a 30 no vetor.\")"
      ],
      "metadata": {
        "colab": {
          "base_uri": "https://localhost:8080/"
        },
        "id": "vtVxurMnmPgY",
        "outputId": "b4c61340-5594-452c-cd16-76f445699594"
      },
      "execution_count": null,
      "outputs": [
        {
          "output_type": "stream",
          "name": "stdout",
          "text": [
            "Digite o elemento 1: 4\n",
            "Digite o elemento 2: 5\n",
            "Digite o elemento 3: 30\n",
            "Digite o elemento 4: 45\n",
            "Digite o elemento 5: 34\n",
            "Digite o elemento 6: 20\n",
            "Digite o elemento 7: 36\n",
            "Digite o elemento 8: 6\n",
            "Digite o elemento 9: 20\n",
            "Digite o elemento 10: 30\n",
            "Digite o elemento 11: 30\n",
            "Digite o elemento 12: 7\n",
            "Digite o elemento 13: 9\n",
            "Digite o elemento 14: 8\n",
            "Digite o elemento 15: 30\n",
            "Digite o elemento 16: 32\n",
            "Digite o elemento 17: 33\n",
            "Digite o elemento 18: 345\n",
            "Digite o elemento 19: 5\n",
            "Digite o elemento 20: 5\n",
            "Posições dos elementos iguais a 30:\n",
            "2\n",
            "9\n",
            "10\n",
            "14\n"
          ]
        }
      ]
    },
    {
      "cell_type": "markdown",
      "source": [
        "6) Fazer um algoritmo que calcule e escreva o somatório dos valores armazenados numa variável\n",
        "composta unidimensional (vetor) A, de 100 elementos numéricos a serem lidos do dispositivo\n",
        "de entrada."
      ],
      "metadata": {
        "id": "FabGUX9PmlSP"
      }
    },
    {
      "cell_type": "code",
      "source": [
        "somatorio = 0\n",
        "for i in range(100):\n",
        "    elemento = float(input(f\"Digite o elemento {i+1}: \"))\n",
        "    somatorio += elemento\n",
        "\n",
        "print(f\"O somatório dos valores é: {somatorio:.2f}\")"
      ],
      "metadata": {
        "id": "FEtXolMKnarK"
      },
      "execution_count": null,
      "outputs": []
    },
    {
      "cell_type": "markdown",
      "source": [
        "7) Escreva um algoritmo que leia um vetor de 20 valores numéricos reais e os imprima na\n",
        "ordem contrária em que foi lida."
      ],
      "metadata": {
        "id": "eb7-3J9hns8w"
      }
    },
    {
      "cell_type": "code",
      "source": [
        "vetor = [float(input(f\"Digite o valor {i+1}: \")) for i in range(201)]\n",
        "\n",
        "print(\"Valores na ordem contrária:\")\n",
        "for valor in vetor[::-1]:\n",
        "    print(valor)"
      ],
      "metadata": {
        "colab": {
          "base_uri": "https://localhost:8080/"
        },
        "id": "5sM4SNEenywc",
        "outputId": "4a3a402e-160f-4ed4-d544-100db7b642da"
      },
      "execution_count": 13,
      "outputs": [
        {
          "output_type": "stream",
          "name": "stdout",
          "text": [
            "Digite o valor 1: 2\n",
            "Digite o valor 2: 23\n",
            "Digite o valor 3: 25\n",
            "Digite o valor 4: 67\n",
            "Digite o valor 5: 54\n",
            "Digite o valor 6: 32\n",
            "Digite o valor 7: 11\n",
            "Digite o valor 8: 12\n",
            "Digite o valor 9: 13\n",
            "Digite o valor 10: 5\n",
            "Digite o valor 11: 99\n",
            "Digite o valor 12: 23\n",
            "Digite o valor 13: 532\n",
            "Digite o valor 14: 23\n",
            "Digite o valor 15: 34\n",
            "Digite o valor 16: 23\n",
            "Digite o valor 17: 432\n",
            "Digite o valor 18: 245\n",
            "Digite o valor 19: 235\n",
            "Digite o valor 20: 367\n",
            "Valores na ordem contrária:\n",
            "367.0\n",
            "235.0\n",
            "245.0\n",
            "432.0\n",
            "23.0\n",
            "34.0\n",
            "23.0\n",
            "532.0\n",
            "23.0\n",
            "99.0\n",
            "5.0\n",
            "13.0\n",
            "12.0\n",
            "11.0\n",
            "32.0\n",
            "54.0\n",
            "67.0\n",
            "25.0\n",
            "23.0\n",
            "2.0\n"
          ]
        }
      ]
    },
    {
      "cell_type": "markdown",
      "source": [
        "8) Escreva um algoritmo para fazer a soma de dois vetores de 10 elementos reais lidos do\n",
        "teclado. O primeiro elemento do primeiro vetor deverá ser adicionado ao primeiro elemento do\n",
        "segundo vetor e, o resultado deverá ser acumulado em um terceiro vetor também de 10\n",
        "elementos. Imprimir os três vetores conforme layout de impressão abaixo:\n",
        "VETOR 1: __ __ __ __ __ __ __ __ __ __\n",
        "VETOR 2: __ __ __ __ __ __ __ __ __ __\n",
        "VETOR 3: __ __ __ __ __ __ __ __ __ __"
      ],
      "metadata": {
        "id": "w6qGCCleoP7c"
      }
    },
    {
      "cell_type": "code",
      "source": [
        "vetor1 = [float(input(f\"Digite o elemento {i+1} do VETOR 1: \")) for i in range(10)]\n",
        "vetor2 = [float(input(f\"Digite o elemento {i+1} do VETOR 2: \")) for i in range(10)]\n",
        "vetor3 = [vetor1[i] + vetor2[i] for i in range(10)]\n",
        "\n",
        "print(\"VETOR 1:\", *vetor1)\n",
        "print(\"VETOR 2:\", *vetor2)\n",
        "print(\"VETOR 3:\", *vetor3)"
      ],
      "metadata": {
        "id": "aTQkbT-OoTM-"
      },
      "execution_count": null,
      "outputs": []
    },
    {
      "cell_type": "markdown",
      "source": [
        "9) Fazer um algoritmo que:\n",
        "a) Leia duas variáveis compostas unidimensionais, contendo, cada uma, 25 elementos numéricos;\n",
        "b) intercale os elementos desses dois conjuntos formando uma nova variável composta\n",
        "unidimensional de 50 elementos;\n",
        "c) Escreva o resultado obtido."
      ],
      "metadata": {
        "id": "uyjK8n7_o9jU"
      }
    },
    {
      "cell_type": "code",
      "source": [
        "vetor1 = [float(input(f\"Digite o elemento {i+1} do VETOR 1: \")) for i in range(25)]\n",
        "vetor2 = [float(input(f\"Digite o elemento {i+1} do VETOR 2: \")) for i in range(25)]\n",
        "\n",
        "vetorintercal = []\n",
        "for i in range(25):\n",
        "    vetorintercal.append(vetor1[i])\n",
        "    vetorintercal.append(vetor2[i])\n",
        "\n",
        "print(\"vetor intercalado:\", *vetorintercal)"
      ],
      "metadata": {
        "id": "98Zj4xVppB7n"
      },
      "execution_count": null,
      "outputs": []
    },
    {
      "cell_type": "markdown",
      "source": [
        "10) Escreva um algoritmo que:\n",
        "a) leia 100 valores numéricos e os armazene numa variável composta unidimensional A;\n",
        "b) calcule e escreva:\n",
        "\n",
        ", onde ai é o i-ésimo valor armazenado na variável A;\n",
        "\n",
        "c) calcule e escreva quantos termos da série acima têm o numerador menor do que o\n",
        "denominador.\n",
        "S = i\n",
        "i=0 ai"
      ],
      "metadata": {
        "id": "1ovjnuEapiSe"
      }
    },
    {
      "cell_type": "code",
      "source": [
        "A = [float(input(f\"Digite o valor {i+1}: \")) for i in range(100)]\n",
        "soma = sum(1 / x for x in A if x != 0)\n",
        "\n",
        "contagemmenor = sum(1 for x in A if x > 1)\n",
        "\n",
        "print(f\"Soma da série: {soma:.4f}\")\n",
        "print(f\"Quantidade de termos com numerador menor do que o denominador: {contagemmenor}\")"
      ],
      "metadata": {
        "id": "uVf7QOwZp8EU"
      },
      "execution_count": null,
      "outputs": []
    },
    {
      "cell_type": "markdown",
      "source": [
        "11) Faça um algoritmo que leia um conjunto de 10 elementos reais e os coloque em um vetor.\n",
        "Construa um segundo vetor formado da seguinte maneira:\n",
        "• Os elementos de ordem par são os correspondentes do primeiro vetor multiplicados por 3.\n",
        "• Os elementos de ordem ímpar são os correspondentes do primeiro vetor divididos por 2.\n",
        "• Imprima os dois vetores."
      ],
      "metadata": {
        "id": "EIaaoKI9qING"
      }
    },
    {
      "cell_type": "code",
      "source": [
        "vetor1 = [float(input(f\"Digite o elemento {i+1}: \")) for i in range(10)]\n",
        "vetor2 = []\n",
        "for i in range(10):\n",
        "    if i % 2 == 0:\n",
        "        vetor2.append(vetor1[i] * 3)\n",
        "    else:\n",
        "        vetor2.append(vetor1[i] / 2)\n",
        "\n",
        "print(\"VETOR 1:\")\n",
        "for valor in vetor1:\n",
        "    print(valor, end=\" \")\n",
        "print()\n",
        "\n",
        "print(\"VETOR 2:\")\n",
        "for valor in vetor2:\n",
        "    print(valor, end=\" \")\n",
        "print()"
      ],
      "metadata": {
        "colab": {
          "base_uri": "https://localhost:8080/"
        },
        "id": "5GMnWewhqWVU",
        "outputId": "f785859a-79e3-4c71-ae2d-d98a1967677e"
      },
      "execution_count": null,
      "outputs": [
        {
          "output_type": "stream",
          "name": "stdout",
          "text": [
            "Digite o elemento 1: 3\n",
            "Digite o elemento 2: 5\n",
            "Digite o elemento 3: 6\n",
            "Digite o elemento 4: 8\n",
            "Digite o elemento 5: 9\n",
            "Digite o elemento 6: 8\n",
            "Digite o elemento 7: 7\n",
            "Digite o elemento 8: 8\n",
            "Digite o elemento 9: 9\n",
            "Digite o elemento 10: 9\n",
            "VETOR 1:\n",
            "3.0 5.0 6.0 8.0 9.0 8.0 7.0 8.0 9.0 9.0 \n",
            "VETOR 2:\n",
            "9.0 2.5 18.0 4.0 27.0 4.0 21.0 4.0 27.0 4.5 \n"
          ]
        }
      ]
    },
    {
      "cell_type": "markdown",
      "source": [
        "12) Escreva um algoritmo que:\n",
        "a) leia um conjunto A de 20 elementos a partir de uma unidade de entrada;\n",
        "b) calcule e imprima o valor de S, onde:\n",
        "S = (A[0] - A[19])2\n",
        "\n",
        "+ (A[1] - A[18])2\n",
        "\n",
        "+ ... + (A[9] - A[10])2"
      ],
      "metadata": {
        "id": "fJfHr1iBrQS7"
      }
    },
    {
      "cell_type": "code",
      "source": [
        "A = [float(input(f\"Digite o elemento {i+1}: \")) for i in range(20)]\n",
        "S = 0\n",
        "for i in range(10):\n",
        "    S += (A[i] - A[19 - i]) ** 2\n",
        "\n",
        "print(f\"O valor de S é: {S:.2f}\")"
      ],
      "metadata": {
        "id": "-HstekIbrYsL"
      },
      "execution_count": null,
      "outputs": []
    },
    {
      "cell_type": "markdown",
      "source": [
        "13) Escreva um algoritmo que:\n",
        "a) leia uma frase de 50 caracteres;\n",
        "b) conte quantos brancos existem na frase;\n",
        "c) conte quantas vezes a letra “A” aparece;\n",
        "d) imprima o que foi calculado nos itens b e c."
      ],
      "metadata": {
        "id": "RueJsmq5rol8"
      }
    },
    {
      "cell_type": "code",
      "source": [
        "frase = input(\"Digite uma frase com até 50 caracteres: \")\n",
        "if len(frase) > 50:\n",
        "    frase = frase[:50]\n",
        "\n",
        "espaços= frase.count(' ')\n",
        "contaA = frase.upper().count('A')\n",
        "\n",
        "# Imprime os resultados\n",
        "print(f\"Quantidade de espaços na frase é: {espaços}\")\n",
        "print(f\"Quantidade de vezes que a letra 'A' aparece na frase é: {contaA}\")"
      ],
      "metadata": {
        "id": "2Ak_c9BRrsHf"
      },
      "execution_count": null,
      "outputs": []
    },
    {
      "cell_type": "markdown",
      "source": [
        "14) Um armazém trabalha com 100 mercadorias diferentes identificadas pelos números inteiros de\n",
        "0 a 99. O dono do armazém anota a quantidade de cada mercadoria vendida durante o mês.\n",
        "Ele tem uma tabela mensal que indica para cada mercadoria o preço de venda. Escreva o\n",
        "algoritmo para calcular o faturamento mensal do armazém, isto é:\n",
        "\n",
        "As tabelas de preço e quantidade são fornecidas em dois vetores."
      ],
      "metadata": {
        "id": "qFJXGj1ssVlZ"
      }
    },
    {
      "cell_type": "code",
      "source": [
        "quantidade = [0] * 100\n",
        "preço = [0] * 100\n",
        "\n",
        "print(\"Digite o preço de cada mercadoria:\")\n",
        "for i in range(100):\n",
        "    preço[i] = float(input(f\"Preço da mercadoria {i}: \"))\n",
        "\n",
        "print(\"\\nDigite a quantidade vendida de cada mercadoria:\")\n",
        "for i in range(100):\n",
        "    quantidade[i] = int(input(f\"Quantidade da mercadoria {i}: \"))\n",
        "\n",
        "faturamentototal = 0\n",
        "for i in range(100):\n",
        "    faturamentototal += quantidade[i] * preço[i]\n",
        "\n",
        "print(f\"\\nFaturamento total do mês: R$ {faturamentototal:.2f}\")"
      ],
      "metadata": {
        "id": "rfmG2NkUsSll"
      },
      "execution_count": null,
      "outputs": []
    },
    {
      "cell_type": "markdown",
      "source": [
        "15) Classificar um vetor numérico VET de 20 elementos em ordem crescente."
      ],
      "metadata": {
        "id": "Mv46SuitsN6P"
      }
    },
    {
      "cell_type": "code",
      "source": [
        "vetor = []\n",
        "for i in range(20):\n",
        "    elemento = float(input(f\"Digite o elemento {i+1}: \"))\n",
        "    vetor.append(elemento)\n",
        "vetor.sort()\n",
        "\n",
        "print(\"vetor ordenado:\")\n",
        "for valor in vetor:\n",
        "    print(valor, end=\" \")\n",
        "print()"
      ],
      "metadata": {
        "id": "2bTjWmLDsgCH"
      },
      "execution_count": null,
      "outputs": []
    },
    {
      "cell_type": "markdown",
      "source": [
        "16) Dado um vetor de 128 elementos, verificar se existe um elemento igual a K (chave) no vetor.\n",
        "Se existir, imprimir a posição onde foi encontrada a chave; se não; imprimir a mensagem:\n",
        "“CHAVE K NÃO ENCONTRADA”. O vetor A e a chave K são lidos a partir de uma unidade de\n",
        "entrada."
      ],
      "metadata": {
        "id": "1q-UT847tLwk"
      }
    },
    {
      "cell_type": "code",
      "source": [
        "vetor = [float(input(f\"Digite o elemento {i+1}: \")) for i in range(128)]\n",
        "k = float(input(\"Digite a chave K: \"))\n",
        "\n",
        "encontrado = False\n",
        "for i in range(len(vetor)):\n",
        "    if vetor[i] == k:\n",
        "        print(f\"Chave {k} encontrada na posição {i}\")\n",
        "        encontrado = True\n",
        "        break\n",
        "\n",
        "if not encontrado:\n",
        "    print(f\"Chave {k} não encontrada\")"
      ],
      "metadata": {
        "id": "S5uLWQLrtQqq"
      },
      "execution_count": null,
      "outputs": []
    },
    {
      "cell_type": "markdown",
      "source": [
        "17) Refaça o algoritmo acima otimizando-o usando uma técnica conhecida por Pesquisa Binária.\n",
        "Suponha primeiramente que o vetor já esteja ordenado. Procuramos então o elemento K\n",
        "dividindo o vetor em duas partes e testando em qual das duas partes ele deveria estar.\n",
        "Procede-se então, da mesma forma para a parte provável, e assim sucessivamente.\n",
        "Obs.: na pesquisa sequencial simples (problema 16), o número médio de comparações que\n",
        "devem ser feitas até encontrar a chave é N/2, onde N é o número de elementos do vetor. No\n",
        "nosso caso, no algoritmo 16, teríamos, em média, 128/2 = 64 comparações. Na pesquisa\n",
        "binária, o número máximo de comparações é log2N. Teríamos, então, log2128=7 comparações,\n",
        "no máximo."
      ],
      "metadata": {
        "id": "UYeS48pltq_o"
      }
    },
    {
      "cell_type": "code",
      "source": [
        "vetor = [float(input(f\"Digite o elemento {i+1}: \")) for i in range(128)]\n",
        "vetor.sort()\n",
        "k = float(input(\"Digite a chave K: \"))\n",
        "\n",
        "inicio = 0\n",
        "fim = len(vetor) - 1\n",
        "encontrado = False\n",
        "\n",
        "while inicio <= fim:\n",
        "    meio = (inicio + fim) // 2\n",
        "    if vetor[meio] == k:\n",
        "        print(f\"Chave {k} encontrada na posição {meio}\")\n",
        "        encontrado = True\n",
        "        break\n",
        "    elif vetor[meio] < k:\n",
        "        inicio = meio + 1\n",
        "    else:\n",
        "        fim = meio - 1\n",
        "\n",
        "if not encontrado:\n",
        "    print(f\"Chave {k} não encontrada\")"
      ],
      "metadata": {
        "id": "XiTajYRWtwDl"
      },
      "execution_count": null,
      "outputs": []
    },
    {
      "cell_type": "markdown",
      "source": [
        "18) Faça um algoritmo qualquer que leia uma matriz A de 15 linhas por 25 colunas e imprima o\n",
        "seu conteúdo."
      ],
      "metadata": {
        "id": "XDvv0xDWuOMg"
      }
    },
    {
      "cell_type": "code",
      "source": [
        "numlinhas = 15\n",
        "numcolunas = 25\n",
        "matriz = []\n",
        "\n",
        "print(\"Digite os elementos da matriz A:\")\n",
        "for i in range(numlinhas):\n",
        "    linha = []\n",
        "    for j in range(numcolunas):\n",
        "        elemento = float(input(f\"Elemento [{i+1}][{j+1}]: \"))\n",
        "        linha.append(elemento)\n",
        "    matriz.append(linha)\n",
        "\n",
        "print(\"\\nMatriz A:\")\n",
        "for linha in matriz:\n",
        "    for elemento in linha:\n",
        "        print(f\"{elemento:7.2f}\", end=\" \")\n",
        "    print()"
      ],
      "metadata": {
        "id": "oFr8TXKguSSu"
      },
      "execution_count": null,
      "outputs": []
    },
    {
      "cell_type": "markdown",
      "source": [
        "19) Dada uma matriz B, de 10 linhas por 20 colunas, escrever um algoritmo que calcula e imprima\n",
        "o somatório dos elementos da quinta linha."
      ],
      "metadata": {
        "id": "c7cVQd4nuitR"
      }
    },
    {
      "cell_type": "code",
      "source": [
        "numlinhas = 10\n",
        "numcolunas = 20\n",
        "matriz = []\n",
        "\n",
        "print(\"Digite os elementos da matriz B:\")\n",
        "for i in range(numlinhas):\n",
        "    linha = []\n",
        "    for j in range(numcolunas):\n",
        "        elemento = float(input(f\"Elemento [{i+1}][{j+1}]: \"))\n",
        "        linha.append(elemento)\n",
        "    matriz.append(linha)\n",
        "\n",
        "somaquintalinha = 0\n",
        "for valor in matriz[4]:\n",
        "    somaquintalinha += valor\n",
        "\n",
        "print(f\"Somatório dos elementos da quinta linha: {somaquintalinha}\")"
      ],
      "metadata": {
        "id": "4lE3RTMyulpS"
      },
      "execution_count": null,
      "outputs": []
    },
    {
      "cell_type": "markdown",
      "source": [
        "20) Dada uma tabela de 4 x 5 elementos, calcular a soma de cada linha e a soma de todos os\n",
        "elementos."
      ],
      "metadata": {
        "id": "-WaeCZhsvKzK"
      }
    },
    {
      "cell_type": "code",
      "source": [
        "numlinha = 4\n",
        "numcoluna = 5\n",
        "matriz = []\n",
        "\n",
        "print(\"Digite os elementos da matriz:\")\n",
        "for i in range(numlinha):\n",
        "    linha = []\n",
        "    for j in range(numcoluna):\n",
        "        elemento = float(input(f\"Elemento [{i+1}][{j+1}]: \"))\n",
        "        linha.append(elemento)\n",
        "    matriz.append(linha)\n",
        "\n",
        "somatotal = 0\n",
        "\n",
        "for i in range(numlinha):\n",
        "    somalinha = sum(matriz[i])\n",
        "    somatotal += somalinha\n",
        "    print(f\"Soma da linha {i+1}: {somalinha}\")\n",
        "\n",
        "# Imprime a soma total\n",
        "print(f\"Soma de todos os elementos: {somatotal}\")"
      ],
      "metadata": {
        "id": "uLQocjwvvaGX"
      },
      "execution_count": null,
      "outputs": []
    },
    {
      "cell_type": "markdown",
      "source": [
        "21) Elabore um algoritmo que leia uma matriz 4 x 4 e escreva a matriz resultante após ter\n",
        "multiplicado os elementos da diagonal principal por uma constante k."
      ],
      "metadata": {
        "id": "boRGfQ4Jv8dD"
      }
    },
    {
      "cell_type": "code",
      "source": [
        "matriz = [[float(input(f\"Digite o valor da posição [{i}][{j}]: \")) for j in range(4)] for i in range(4)]\n",
        "\n",
        "k = float(input(\"Digite o valor da constante k: \"))\n",
        "\n",
        "for i in range(4):\n",
        "    matriz[i][i] *= k\n",
        "\n",
        "print(\"\\nMatriz resultante:\")\n",
        "for linha in matriz:\n",
        "    print(\" \".join(f\"{valor:.2f}\" for valor in linha))"
      ],
      "metadata": {
        "id": "kPI194Z7v9gR"
      },
      "execution_count": null,
      "outputs": []
    },
    {
      "cell_type": "markdown",
      "source": [
        "22) Escreva um algoritmo que:\n",
        "a) leia uma matriz quadrada 20 x 20 de elementos reais;\n",
        "b) divida cada elemento de uma linha da matriz pelo elemento da diagonal principal dessa linha;\n",
        "c) imprima a matriz assim modificada;"
      ],
      "metadata": {
        "id": "HfaLB4tcomFP"
      }
    },
    {
      "cell_type": "code",
      "source": [
        "matriz = []\n",
        "print(\"Digite os elementos da matriz 20x20:\")\n",
        "for _ in range(20):\n",
        "    linha = input().split()\n",
        "    linhafloat = [float(num) for num in linha]\n",
        "    matriz.append(linhafloat)\n",
        "\n",
        "for i in range(20):\n",
        "    diagonal = matriz[i][i]\n",
        "    if diagonal == 0:\n",
        "        raise ValueError(f\"Elemento da diagonal principal na posição ({i}, {i}) é zero. não foi possivel dividir por zero.\")\n",
        "    for j in range(20):\n",
        "        matriz[i][j] /= diagonal\n",
        "\n",
        "for linha in matriz:\n",
        "    for valor in linha:\n",
        "        print(f\"{valor:.2f}\", end=\" \")\n",
        "    print()"
      ],
      "metadata": {
        "colab": {
          "base_uri": "https://localhost:8080/"
        },
        "id": "6p2i3-HtomeR",
        "outputId": "5ace5f38-90ad-4009-9ab1-e52476771581"
      },
      "execution_count": null,
      "outputs": [
        {
          "metadata": {
            "tags": null
          },
          "name": "stdout",
          "output_type": "stream",
          "text": [
            "Digite os elementos da matriz 20x20:\n"
          ]
        }
      ]
    },
    {
      "cell_type": "markdown",
      "source": [
        "23) Faça um algoritmo que:\n",
        "a) leia uma matriz 10 x 10 de elementos inteiros;\n",
        "b) imprima essa matriz;\n",
        "c) calcule e imprima a soma dos elementos situados abaixo da diagonal principal da matriz,\n",
        "incluindo os elementos da própria diagonal principal."
      ],
      "metadata": {
        "id": "iyQePpXdqKJc"
      }
    },
    {
      "cell_type": "code",
      "source": [
        "matriz = []\n",
        "print(\"Digite os elementos da matriz 10x10:\")\n",
        "for _ in range(10):\n",
        "    linha = input().split()\n",
        "    linhaint = []\n",
        "    for num in linha:\n",
        "        linhaint.append(int(num))\n",
        "    matriz.append(linhaint)\n",
        "\n",
        "print(\"Matriz:\")\n",
        "for linha in matriz:\n",
        "    for valor in linha:\n",
        "        print(valor, end=\" \")\n",
        "    print()\n",
        "\n",
        "soma = 0\n",
        "for i in range(10):\n",
        "    for j in range(i + 1):\n",
        "        soma += matriz[i][j]\n",
        "\n",
        "print(\" A soma dos elementos abaixo da diagonal principal, incluindo a diagonal:\", soma)"
      ],
      "metadata": {
        "id": "ojgSTdg1qYD1"
      },
      "execution_count": null,
      "outputs": []
    },
    {
      "cell_type": "markdown",
      "source": [
        "24) Escreva um algoritmo que leia duas matrizes reais de dimensão 3 x 5, calcule e imprima a sua\n",
        "soma."
      ],
      "metadata": {
        "id": "39N0EORdrrqX"
      }
    },
    {
      "cell_type": "code",
      "source": [
        "matriz1 = []\n",
        "print(\"Digite os elementos da primeira matriz 3x5:\")\n",
        "for _ in range(3):\n",
        "    linha = input().split()\n",
        "    matriz1.append([float(num) for num in linha])\n",
        "\n",
        "matriz2 = []\n",
        "print(\"Digite os elementos da segunda matriz 3x5:\")\n",
        "for _ in range(3):\n",
        "    linha = input().split()\n",
        "    matriz2.append([float(num) for num in linha])\n",
        "\n",
        "somamatriz = []\n",
        "for i in range(3):\n",
        "    linhasoma = []\n",
        "    for j in range(5):\n",
        "        linhasoma.append(matriz1[i][j] + matriz2[i][j])\n",
        "    somamatriz.append(linhasoma)\n",
        "\n",
        "print(\"Matriz resultante da soma:\")\n",
        "for linha in somamatriz:\n",
        "    for valor in linha:\n",
        "        print(f\"{valor:.2f}\", end=\" \")\n",
        "    print()"
      ],
      "metadata": {
        "id": "xJfvW3fCrvt1"
      },
      "execution_count": null,
      "outputs": []
    },
    {
      "cell_type": "markdown",
      "source": [
        "25) Dada uma matriz MAT de 4 x 5 elementos, faça um algoritmo para somar os elementos de\n",
        "cada linha gerando o vetor SOMALINHA. Em seguida, somar os elementos do vetor SOMALINHA\n",
        "na variável TOTAL que deve ser impressa no final."
      ],
      "metadata": {
        "id": "ba_Soq6Dstcp"
      }
    },
    {
      "cell_type": "code",
      "source": [
        "matriz = []\n",
        "print(\"Digite os elementos da matriz 4x5:\")\n",
        "for _ in range(4):\n",
        "    linha = input().split()\n",
        "    matriz.append([float(num) for num in linha])\n",
        "\n",
        "somalinha = []\n",
        "for linha in matriz:\n",
        "    somalinha = sum(linha)\n",
        "    somalinha.append(somalinha)\n",
        "\n",
        "total = sum(somalinha)\n",
        "\n",
        "print(\"total:\", total)"
      ],
      "metadata": {
        "id": "T9edKN1Qswb1"
      },
      "execution_count": null,
      "outputs": []
    },
    {
      "cell_type": "markdown",
      "source": [
        "26) Escreva um algoritmo para calcular e imprimir a soma de duas matrizes. Seja matriz A (m x n)\n",
        "e a matriz B (n x p). Deverão ser impressas as matrizes A, B e a matriz produto obtida (C).\n",
        "Obs.:\n",
        "(Cij = Aik\n",
        "\n",
        "* Bkj)(i = 0,1,...,m −1)(j = 0,1,..., p −1)\n",
        "k=0"
      ],
      "metadata": {
        "id": "Q3g2Unh3ttAK"
      }
    },
    {
      "cell_type": "code",
      "source": [
        "m = int(input(\"Digite o número de linhas da matriz A (m): \"))\n",
        "n = int(input(\"Digite o número de colunas da matriz A e o número de linhas da matriz B (n): \"))\n",
        "p = int(input(\"Digite o número de colunas da matriz B (p): \"))\n",
        "\n",
        "print(\"Digite os elementos da matriz A:\")\n",
        "A = []\n",
        "for i in range(m):\n",
        "    linha = list(map(float, input().split()))\n",
        "    A.append(linha)\n",
        "\n",
        "print(\"Digite os elementos da matriz B:\")\n",
        "B = []\n",
        "for i in range(n):\n",
        "    linha = list(map(float, input().split()))\n",
        "    B.append(linha)\n",
        "\n",
        "C = []\n",
        "for i in range(m):\n",
        "    linhaC = []\n",
        "    for j in range(p):\n",
        "        soma = 0\n",
        "        for k in range(n):\n",
        "            soma += A[i][k] * B[k][j]\n",
        "        linhaC.append(soma)\n",
        "    C.append(linhaC)\n",
        "\n",
        "print(\"Matriz A:\")\n",
        "for linha in A:\n",
        "    for valor in linha:\n",
        "        print(f\"{valor:.2f}\", end=\" \")\n",
        "    print()\n",
        "\n",
        "print(\"Matriz B:\")\n",
        "for linha in B:\n",
        "    for valor in linha:\n",
        "        print(f\"{valor:.2f}\", end=\" \")\n",
        "    print()\n",
        "\n",
        "print(\"Matriz C (produto de A e B):\")\n",
        "for linha in C:\n",
        "    for valor in linha:\n",
        "        print(f\"{valor:.2f}\", end=\" \")\n",
        "    print()"
      ],
      "metadata": {
        "id": "geNgiwCAuZDH"
      },
      "execution_count": null,
      "outputs": []
    },
    {
      "cell_type": "markdown",
      "source": [
        "27) A tabela dada a seguir contém vários itens que estão estocados em vários armazéns de uma\n",
        "companhia. É fornecido, também, o custo de cada um dos produtos armazenados.\n",
        "\n",
        "PRODUTO 1\n",
        "(unidades)\n",
        "\n",
        "PRODUTO 2\n",
        "(unidades)\n",
        "\n",
        "PRODUTO 3\n",
        "(unidades)\n",
        "ARMAZÉM 1 1200 3700 3737\n",
        "ARMAZÉM 2 1400 4210 4224\n",
        "ARMAZÉM 3 2000 2240 2444\n",
        "CUSTO (R$) 260,00 420,00 330,00\n",
        "Fazer um algoritmo que:\n",
        "a) leia o estoque inicial;\n",
        "b) determine e imprima quantos itens estão armazenados em cada armazém;\n",
        "c) qual o armazém que possui a maior quantidade de produto 2 armazenado;\n",
        "d) o custo total de:\n",
        "d.1) cada produto em cada armazém;\n",
        "d.2) estoque em cada armazém;\n",
        "d.3) cada produto em todos os armazéns."
      ],
      "metadata": {
        "id": "VlPaCvP6vZBO"
      }
    },
    {
      "cell_type": "code",
      "source": [
        "estoque = [\n",
        "    [1200, 3700, 3737],\n",
        "    [1400, 4210, 4224],\n",
        "    [2000, 2240, 2444]\n",
        "]\n",
        "custos = [260.00, 420.00, 330.00]\n",
        "\n",
        "print(\"Estoque inicial:\")\n",
        "for i in range(3):\n",
        "    print(f\"Armazém {i+1}: {estoque[i]}\")\n",
        "\n",
        "print(\"\\nQuantidade total de itens armazenados em cada armazém:\")\n",
        "for i in range(3):\n",
        "    total_itens = sum(estoque[i])\n",
        "    print(f\"Armazém {i+1}: {total_itens} unidades\")\n",
        "\n",
        "produto2 = [estoque[i][1] for i in range(3)]\n",
        "maiorestoqueproduto2 = max(produto2)\n",
        "armazemmaiorestoqueproduto2 = produto2.index(maiorestoqueproduto2) + 1\n",
        "print(f\"\\nArmazém com a maior quantidade de produto 2: Armazém {armazemmaiorestoqueproduto2}\")\n",
        "\n",
        "print(\"\\nCusto total de cada produto em cada armazém:\")\n",
        "for i in range(3):\n",
        "    custoproduto = [estoque[i][j] * custos[j] for j in range(3)]\n",
        "    print(f\"Armazém {i+1}: {custoproduto}\")\n",
        "\n",
        "print(\"\\nCusto total do estoque em cada armazém:\")\n",
        "for i in range(3):\n",
        "    custototalA = sum(estoque[i][j] * custos[j] for j in range(3))\n",
        "    print(f\"Armazém {i+1}: R$ {custototalA:.2f}\")\n",
        "\n",
        "print(\"\\nCusto total de cada produto em todos os armazéns:\")\n",
        "for j in range(3):\n",
        "    custototalP = sum(estoque[i][j] * custos[j] for i in range(3))\n",
        "    print(f\"Produto {j+1}: R$ {custototalP:.2f}\")"
      ],
      "metadata": {
        "id": "-u3BF2zwwNPb"
      },
      "execution_count": null,
      "outputs": []
    },
    {
      "cell_type": "markdown",
      "source": [
        "28) Faça um algoritmo que monte uma estrutura de dados homogênea 10 x 30, onde o conteúdo\n",
        "de cada elemento é igual à soma dos valores de seus índices."
      ],
      "metadata": {
        "id": "bpAbkRiYxQ3c"
      }
    },
    {
      "cell_type": "code",
      "source": [
        "linhas = 10\n",
        "colunas = 30\n",
        "matriz = []\n",
        "\n",
        "for i in range(linhas):\n",
        "    linha = []\n",
        "    for j in range(colunas):\n",
        "        valor = i + j\n",
        "        linha.append(valor)\n",
        "    matriz.append(linha)\n",
        "\n",
        "print(\"Matriz 10x30:\")\n",
        "for linha in matriz:\n",
        "    print(linha)"
      ],
      "metadata": {
        "id": "6YRyJY4OxVNC"
      },
      "execution_count": null,
      "outputs": []
    },
    {
      "cell_type": "markdown",
      "source": [
        "29) Ler duas matrizes A e B, cada uma com 7 linhas e 1 coluna. Construir uma matriz C de 7 x 2,\n",
        "onde a primeira coluna deverá ser formada pelos elementos da matriz A e a segunda coluna\n",
        "deverá ser formada pelos elementos da matriz B."
      ],
      "metadata": {
        "id": "kAMtNo8nxmd7"
      }
    },
    {
      "cell_type": "code",
      "source": [
        "print(\"Digite os elementos da matriz A:\")\n",
        "A = [float(input()) for _ in range(7)]\n",
        "print(\"Digite os elementos da matriz B:\")\n",
        "B = [float(input()) for _ in range(7)]\n",
        "\n",
        "C = []\n",
        "for i in range(7):\n",
        "    C.append([A[i], B[i]])\n",
        "\n",
        "print(\"\\nMatriz C (7x2):\")\n",
        "for linha in C:\n",
        "    print(linha)"
      ],
      "metadata": {
        "id": "ZMwlemmzxpDR"
      },
      "execution_count": null,
      "outputs": []
    },
    {
      "cell_type": "markdown",
      "source": [
        "30) Suponha que nos é dada uma matriz de inteiros A com m=20 linhas e n=30 colunas, e um\n",
        "vetor de inteiros X com n=30 elementos. Deseja-se gerar um novo vetor de inteiros Y, formado\n",
        "a partir das seguintes operações:\n",
        "Y[0] = A[0][0] * X[0] + A[0][1] * X[1] + ... + A[0][n-1] * X[n-1]\n",
        "Y[1] = A[1][0] * X[0] + A[1][1] * X[1] + ... + A[1][n-1] * X[n-1]\n",
        ".\n",
        ".\n",
        ".\n",
        "Y[m-1] = A[m-1][0] * X[0] + A[m-1][1] * X[1] + ... + A[m-1][n-1] * X[n-1]\n",
        "Escreva os dados de entrada (os valores de A e X) seguidos pelos valores dos elementos de Y."
      ],
      "metadata": {
        "id": "xVOVWjg4yWk0"
      }
    },
    {
      "cell_type": "code",
      "source": [
        "m = 20\n",
        "n = 30\n",
        "A = []\n",
        "X = []\n",
        "\n",
        "print(\"Digite os elementos da matriz A:\")\n",
        "for i in range(m):\n",
        "    linha = list(map(int, input().split()))\n",
        "    A.append(linha)\n",
        "\n",
        "print(\"Digite os elementos do vetor X (30 elementos):\")\n",
        "X = list(map(int, input().split()))\n",
        "\n",
        "Y = []\n",
        "for i in range(m):\n",
        "    soma = 0\n",
        "    for j in range(n):\n",
        "        soma += A[i][j] * X[j]\n",
        "    Y.append(soma)\n",
        "\n",
        "print(\"\\nMatriz A (20x30):\")\n",
        "for linha in A:\n",
        "    print(linha)\n",
        "\n",
        "print(\"\\nVetor X:\")\n",
        "print(X)\n",
        "\n",
        "print(\"\\nVetor Y:\")\n",
        "print(Y)"
      ],
      "metadata": {
        "id": "AvTZHqHW2Cr5"
      },
      "execution_count": null,
      "outputs": []
    },
    {
      "cell_type": "markdown",
      "source": [
        "31) Preencher e imprimir os elementos de uma matriz A10 x 6 de elementos reais com valores tais\n",
        "que:\n",
        "• Se I < J, A[I][J] = I / J;\n",
        "• Se I = J, A[I][J] = 0;\n",
        "• Se I > J, A[I][J] = J / I;"
      ],
      "metadata": {
        "id": "bt_waOkC3Ycz"
      }
    },
    {
      "cell_type": "code",
      "source": [
        "linhas = 10\n",
        "colunas = 6\n",
        "A = []\n",
        "\n",
        "for i in range(linhas):\n",
        "    linha = []\n",
        "    for j in range(colunas):\n",
        "        if i < j:\n",
        "            valor = i / j\n",
        "        elif i == j:\n",
        "            valor = 0\n",
        "        else:\n",
        "            valor = j / i\n",
        "        linha.append(valor)\n",
        "    A.append(linha)\n",
        "\n",
        "print(\"Matriz A:\")\n",
        "for linha in A:\n",
        "    print(linha)"
      ],
      "metadata": {
        "id": "gsHMqOPm3iG0"
      },
      "execution_count": null,
      "outputs": []
    },
    {
      "cell_type": "markdown",
      "source": [
        "32) Uma matriz X[n][4] contém informações sobre alunos de uma universidade. Os índices das\n",
        "linhas são os números de matrícula e os elementos da 1a\n",
        ", 2a\n",
        ", 3a e 4a colunas são,\n",
        "respectivamente, idade, sexo (0 ou 1), curso (no. do curso) e nota. Fazer um algoritmo para\n",
        "obter o aluno do sexo 0, curso 6, que obteve a melhor nota. Supor a inexistência de empate."
      ],
      "metadata": {
        "id": "3sfSEU7oIOwM"
      }
    },
    {
      "cell_type": "code",
      "source": [
        "X = [\n",
        "    [20, 0, 6, 85],\n",
        "    [22, 1, 6, 90],\n",
        "    [21, 0, 6, 92],\n",
        "    [23, 0, 5, 88],\n",
        "    [20, 0, 6, 88]\n",
        "]\n",
        "\n",
        "melhnota = -1\n",
        "alunomelhnota = None\n",
        "\n",
        "for aluno in X:\n",
        "    idade, sexo, curso, nota = aluno\n",
        "    if sexo == 0 and curso == 6:\n",
        "        if nota > melhnota:\n",
        "            melhnota = nota\n",
        "            alunomelhnota = aluno\n",
        "\n",
        "if alunomelhnota:\n",
        "    idade, sexo, curso, nota = alunomelhnota\n",
        "    print(f\"Aluno do sexo 0, curso 6 com a melhor nota:\")\n",
        "    print(f\"Idade: {idade}\")\n",
        "    print(f\"Sexo: {sexo}\")\n",
        "    print(f\"Curso: {curso}\")\n",
        "    print(f\"Nota: {nota}\")\n",
        "else:\n",
        "    print(\"Nenhum aluno encontrado.\")"
      ],
      "metadata": {
        "id": "IwnZ4z-SITfP"
      },
      "execution_count": null,
      "outputs": []
    },
    {
      "cell_type": "markdown",
      "source": [
        "33) Faça um algoritmo que leia uma matriz QUANT de 10 linhas por 10 colunas e imprima as\n",
        "seguintes características:\n",
        "a) dê o somatório dos quadrados da 1a coluna;\n",
        "b) dê o somatório dos cubos da 2a linha;\n",
        "c) dê o somatório dos elementos da diagonal principal;\n",
        "d) dê o somatório total dos 100 elementos."
      ],
      "metadata": {
        "id": "gABy5AQiRbFF"
      }
    },
    {
      "cell_type": "code",
      "source": [
        "n = 10\n",
        "quant= []\n",
        "\n",
        "print(\"Digite os elementos da matriz 10x10:\")\n",
        "for i in range(n):\n",
        "    linha = list(map(float, input().split()))\n",
        "    quant.append(linha)\n",
        "\n",
        "somaquadradoscol1 = 0\n",
        "somacuboslin2 = 0\n",
        "somadiagonalprinci = 0\n",
        "somatotal = 0\n",
        "\n",
        "for i in range(n):\n",
        "    for j in range(n):\n",
        "        valor =quant[i][j]\n",
        "\n",
        "        if j == 0:\n",
        "            somaquadradoscol1 += valor ** 2\n",
        "        if i == 1:\n",
        "            somacuboslin2 += valor ** 3\n",
        "        if i == j:\n",
        "            somadiagonalprinci += valor\n",
        "\n",
        "        somatotal += valor\n",
        "\n",
        "print(f\"\\nSomatório dos quadrados da 1ª coluna: {somaquadradoscol1}\")\n",
        "print(f\"Somatório dos cubos da 2ª linha: {somacuboslin2}\")\n",
        "print(f\"Somatório dos elementos da diagonal principal: {somadiagonalprinci}\")\n",
        "print(f\"Somatório total dos 100 elementos: {somatotal}\")"
      ],
      "metadata": {
        "id": "pAUhrsZ0Rfzq"
      },
      "execution_count": null,
      "outputs": []
    },
    {
      "cell_type": "markdown",
      "source": [
        "34) Sabe-se que a multiplicação de duas matrizes A e B só é possível se o número de colunas da\n",
        "matriz A for igual ao número de linhas da matriz B. Assim, se A é uma matriz m x n e B uma\n",
        "matriz n x p, a multiplicação será possível e o produto será uma matriz Cm x p. O produto\n",
        "matricial pode ser muito útil em várias aplicações como, por exemplo, na situação descrita a\n",
        "seguir.\n",
        "Uma certa fábrica produziu dois tipos de motores M1 e M2 nos meses de janeiro a dezembro e\n",
        "o número de motores produzidos foi registrado na tabela a seguir:\n",
        "M1 M2\n",
        "JAN 30 20\n",
        "FEV 5 10\n",
        "MAR 7 15\n",
        ".\n",
        ".\n",
        ".\n",
        ".\n",
        "DEZ 18 25\n",
        "\n",
        "O setor de controle de vendas tem uma tabela do custo e do lucro (em milhares de reais) obtidos\n",
        "com cada motor.\n",
        "\n",
        "CUSTO LUCRO\n",
        "M1 10 3\n",
        "M2 15 2\n",
        "\n",
        "Para saber o custo e o lucro nos meses de janeiro a dezembro, basta que se faça o produto\n",
        "matricial das duas tabelas.\n",
        "Portanto, fazer um algoritmo que, a partir da produção mensal de motores M1 e M2 e seus\n",
        "respectivos custos e lucros, calcule o custo e o lucro em cada um dos meses e o custo e lucro\n",
        "anuais."
      ],
      "metadata": {
        "id": "ttr3LYxmRkJj"
      }
    },
    {
      "cell_type": "code",
      "source": [
        "P = [\n",
        "    [30, 20],\n",
        "    [5, 10],\n",
        "    [7, 15],\n",
        "    [8, 12],\n",
        "    [10, 20],\n",
        "    [12, 22],\n",
        "    [14, 24],\n",
        "    [16, 26],\n",
        "    [17, 28],\n",
        "    [18, 25],\n",
        "    [20, 30],\n",
        "    [22, 28]\n",
        "]\n",
        "\n",
        "CL = [\n",
        "    [10, 3],\n",
        "    [15, 2]\n",
        "]\n",
        "\n",
        "custoanual = 0\n",
        "lucroanual = 0\n",
        "\n",
        "print(\"Custos e lucros mensais:\")\n",
        "for i in range(12):\n",
        "    m1produzidos = P[i][0]\n",
        "    m2produzidos = P[i][1]\n",
        "\n",
        "    custom1 = CL[0][0]\n",
        "    lucrom1 = CL[0][1]\n",
        "    custom2 = CL[1][0]\n",
        "    lucrom2 = CL[1][1]\n",
        "\n",
        "    customes = (m1produzidos * custom1) + (m2produzidos * custom2)\n",
        "    lucromes = (m1produzidos * lucrom1) + (m2produzidos * lucrom2)\n",
        "\n",
        "    custoanual += customes\n",
        "    lucroanual += lucromes\n",
        "\n",
        "    print(f\"Mês {i + 1}: Custo = {customes}, Lucro = {lucromes}\")\n",
        "\n",
        "print(f\"\\nCusto anual total: {custoanual}\")\n",
        "print(f\"Lucro anual total: {lucroanual}\")"
      ],
      "metadata": {
        "id": "XnBJhXytRlG0"
      },
      "execution_count": null,
      "outputs": []
    }
  ]
}