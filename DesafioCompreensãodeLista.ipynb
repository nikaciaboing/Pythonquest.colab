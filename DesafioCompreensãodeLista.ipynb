{
  "nbformat": 4,
  "nbformat_minor": 0,
  "metadata": {
    "colab": {
      "provenance": [],
      "authorship_tag": "ABX9TyPbh3gRS1mDEEezQfgB5REA",
      "include_colab_link": true
    },
    "kernelspec": {
      "name": "python3",
      "display_name": "Python 3"
    },
    "language_info": {
      "name": "python"
    }
  },
  "cells": [
    {
      "cell_type": "markdown",
      "metadata": {
        "id": "view-in-github",
        "colab_type": "text"
      },
      "source": [
        "<a href=\"https://colab.research.google.com/github/nikaciaboing/Pythonquest.colab/blob/main/DesafioCompreens%C3%A3odeLista.ipynb\" target=\"_parent\"><img src=\"https://colab.research.google.com/assets/colab-badge.svg\" alt=\"Open In Colab\"/></a>"
      ]
    },
    {
      "cell_type": "markdown",
      "source": [
        "1. Criar uma matriz transposta (matriz que possuem (linhas viram colunas e vice-\n",
        "versa)"
      ],
      "metadata": {
        "id": "ABNlsIKfo9_B"
      }
    },
    {
      "cell_type": "code",
      "execution_count": 1,
      "metadata": {
        "colab": {
          "base_uri": "https://localhost:8080/"
        },
        "id": "mtTSZegSo7w5",
        "outputId": "2050a34e-0a61-40d6-e894-2c55d9e8070f"
      },
      "outputs": [
        {
          "output_type": "stream",
          "name": "stdout",
          "text": [
            "[1, 4, 7]\n",
            "[2, 5, 8]\n",
            "[3, 6, 9]\n"
          ]
        }
      ],
      "source": [
        "matriz = [\n",
        "    [1, 2, 3],\n",
        "    [4, 5, 6],\n",
        "    [7, 8, 9]\n",
        "]\n",
        "\n",
        "matriztransposta = [[linha[i] for linha in matriz] for i in range(len(matriz[0]))]\n",
        "\n",
        "for linha in matriztransposta:\n",
        "    print(linha)"
      ]
    },
    {
      "cell_type": "markdown",
      "source": [
        "2. Criar um programa para filtrar palavras palíndromos de uma lista (uma palavra é\n",
        "palíndromo se pode ser lida igual de trás para frente)."
      ],
      "metadata": {
        "id": "mVhvwRahpQIg"
      }
    },
    {
      "cell_type": "code",
      "source": [
        "def epalindromo(palavra):\n",
        "    return palavra == palavra[::-1]\n",
        "\n",
        "def filtrapalindromos(palavras):\n",
        "    return [palavra for palavra in palavras if epalindromo(palavra)]\n",
        "\n",
        "palavras = [\"arara\", \"python\", \"ana\", \"css\", \"radar\", \"java\"]\n",
        "palindromos = filtrapalindromos(palavras)\n",
        "\n",
        "print(\"Palíndromos encontrados:\", palindromos)"
      ],
      "metadata": {
        "colab": {
          "base_uri": "https://localhost:8080/"
        },
        "id": "ULRPueWmpfZ9",
        "outputId": "e0549479-17bf-4716-ce5b-917eec8efc8d"
      },
      "execution_count": 3,
      "outputs": [
        {
          "output_type": "stream",
          "name": "stdout",
          "text": [
            "Palíndromos encontrados: ['arara', 'ana', 'radar']\n"
          ]
        }
      ]
    },
    {
      "cell_type": "markdown",
      "source": [
        "3. Criar uma lista de tuplas (número, quadrado, cubo) para números primos. Dica:\n",
        "primeiro, crie uma função auxiliar para verificar se o número é primo."
      ],
      "metadata": {
        "id": "c81nw4AfqOtK"
      }
    },
    {
      "cell_type": "code",
      "source": [
        "def ehPrimo(n):\n",
        "    if n < 2:\n",
        "        return False\n",
        "    for i in range(2, int(n ** 0.5) + 1):\n",
        "        if n % i == 0:\n",
        "            return False\n",
        "    return True\n",
        "\n",
        "def listaPrimosComQuadradoCubo(limite):\n",
        "    lista = []\n",
        "    for num in range(2, limite + 1):\n",
        "        if ehPrimo(num):\n",
        "            lista.append((num, num ** 2, num ** 3))\n",
        "    return lista\n",
        "\n",
        "limite = 20\n",
        "primosComQuadradoCubo = listaPrimosComQuadradoCubo(limite)\n",
        "\n",
        "print(\"Números primos com seus quadrados e cubos:\", primosComQuadradoCubo)"
      ],
      "metadata": {
        "colab": {
          "base_uri": "https://localhost:8080/"
        },
        "id": "YBMrbbsEqQsN",
        "outputId": "a48f166c-d0d4-465d-be7c-59c9647fe883"
      },
      "execution_count": 6,
      "outputs": [
        {
          "output_type": "stream",
          "name": "stdout",
          "text": [
            "Números primos com seus quadrados e cubos: [(2, 4, 8), (3, 9, 27), (5, 25, 125), (7, 49, 343), (11, 121, 1331), (13, 169, 2197), (17, 289, 4913), (19, 361, 6859)]\n"
          ]
        }
      ]
    },
    {
      "cell_type": "markdown",
      "source": [
        "4. Criar uma lista de todas as substrings possíveis de uma determinada string."
      ],
      "metadata": {
        "id": "v3k24RgdrD7D"
      }
    },
    {
      "cell_type": "code",
      "source": [
        "def gerarSubstrings(s):\n",
        "    substrings = []\n",
        "    for i in range(len(s)):\n",
        "        for j in range(i + 1, len(s) + 1):\n",
        "            substrings.append(s[i:j])\n",
        "    return substrings\n",
        "\n",
        "string = \"abc\"\n",
        "resultado = gerarSubstrings(string)\n",
        "\n",
        "print(\"Substrings possíveis:\", resultado)"
      ],
      "metadata": {
        "colab": {
          "base_uri": "https://localhost:8080/"
        },
        "id": "4_yF9fFGrWsl",
        "outputId": "c29d9643-aa99-4c31-8049-0a9f669bf1fa"
      },
      "execution_count": 7,
      "outputs": [
        {
          "output_type": "stream",
          "name": "stdout",
          "text": [
            "Substrings possíveis: ['a', 'ab', 'abc', 'b', 'bc', 'c']\n"
          ]
        }
      ]
    },
    {
      "cell_type": "markdown",
      "source": [
        "5. Criar uma lista de números que são divisíveis por todos os números de 1 a n."
      ],
      "metadata": {
        "id": "OSdQqFu4rSB9"
      }
    },
    {
      "cell_type": "code",
      "source": [
        "import math\n",
        "\n",
        "def mmc(a, b):\n",
        "    return abs(a * b) // math.gcd(a, b)\n",
        "\n",
        "def listaMmc(n):\n",
        "    if n < 1:\n",
        "        return []\n",
        "    resultado = 1\n",
        "    for i in range(1, n + 1):\n",
        "        resultado = mmc(resultado, i)\n",
        "    return resultado\n",
        "\n",
        "n = 10\n",
        "resultado = listaMmc(n)\n",
        "\n",
        "print(f\"O menor número divisível por todos os números de 1 a {n} é {resultado}\")"
      ],
      "metadata": {
        "id": "H6yWbfszreWc"
      },
      "execution_count": null,
      "outputs": []
    },
    {
      "cell_type": "markdown",
      "source": [
        "6. Criar uma lista de anagramas de uma palavra em uma lista de palavras."
      ],
      "metadata": {
        "id": "-hwhZQXnrzJM"
      }
    },
    {
      "cell_type": "code",
      "source": [
        "def ehAnagrama(palavra1, palavra2):\n",
        "    return sorted(palavra1) == sorted(palavra2)\n",
        "\n",
        "def encontrarAnagramas(palavra, listaPalavras):\n",
        "    return [p for p in listaPalavras if ehAnagrama(p, palavra)]\n",
        "\n",
        "palavra = \"amor\"\n",
        "listaPalavras = [\"roma\", \"mora\", \"ramo\", \"carro\",]\n",
        "\n",
        "anagramas = encontrarAnagramas(palavra, listaPalavras)\n",
        "\n",
        "print(\"Anagramas encontrados:\", anagramas)"
      ],
      "metadata": {
        "colab": {
          "base_uri": "https://localhost:8080/"
        },
        "id": "hhdf2T2Drz7C",
        "outputId": "df8a5f37-20b2-4ff7-b2f0-13da7cff5fae"
      },
      "execution_count": 24,
      "outputs": [
        {
          "output_type": "stream",
          "name": "stdout",
          "text": [
            "Anagramas encontrados: ['roma', 'mora', 'ramo']\n"
          ]
        }
      ]
    },
    {
      "cell_type": "markdown",
      "source": [
        "7. Criar uma lista de números que são a soma dos dígitos ao quadrado.\n",
        "Ex: 14 → 12 + 42 = 17"
      ],
      "metadata": {
        "id": "4EZH15oEt869"
      }
    },
    {
      "cell_type": "code",
      "source": [
        "def somaDosQuadradosDosDigitos(n):\n",
        "    return sum(int(digito) ** 2 for digito in str(n))\n",
        "\n",
        "def listaSomaDosQuadrados(limite):\n",
        "    lista = []\n",
        "    for num in range(1, limite + 1):\n",
        "        lista.append((num, somaDosQuadradosDosDigitos(num)))\n",
        "    return lista\n",
        "\n",
        "limite = 20\n",
        "resultado = listaSomaDosQuadrados(limite)\n",
        "\n",
        "print(\"Números e suas somas dos quadrados dos dígitos:\", resultado)"
      ],
      "metadata": {
        "colab": {
          "base_uri": "https://localhost:8080/"
        },
        "id": "3WjFyDlIuCw3",
        "outputId": "4065bd45-7e03-46ef-e8b3-4b4c5b3c7ea4"
      },
      "execution_count": 18,
      "outputs": [
        {
          "output_type": "stream",
          "name": "stdout",
          "text": [
            "Números e suas somas dos quadrados dos dígitos: [(1, 1), (2, 4), (3, 9), (4, 16), (5, 25), (6, 36), (7, 49), (8, 64), (9, 81), (10, 1), (11, 2), (12, 5), (13, 10), (14, 17), (15, 26), (16, 37), (17, 50), (18, 65), (19, 82), (20, 4)]\n"
          ]
        }
      ]
    },
    {
      "cell_type": "markdown",
      "source": [
        "8. Criar uma lista de tuplas com contagem de vogais e consoantes."
      ],
      "metadata": {
        "id": "ZnyhGSMCuPvt"
      }
    },
    {
      "cell_type": "code",
      "source": [
        "def contarVogaisEConsoantes(palavra):\n",
        "    vogais = \"aeiouAEIOU\"\n",
        "    contagemVogais = sum(1 for letra in palavra if letra in vogais)\n",
        "    contagemConsoantes = sum(1 for letra in palavra if letra.isalpha() and letra not in vogais)\n",
        "    return (contagemVogais, contagemConsoantes)\n",
        "\n",
        "def listaDeContagens(listaPalavras):\n",
        "    return [(palavra, contarVogaisEConsoantes(palavra)) for palavra in listaPalavras]\n",
        "\n",
        "listaPalavras = [\"arara\", \"python\", \"ana\", \"maria\", \"css\", \"java\"]\n",
        "contagens = listaDeContagens(listaPalavras)\n",
        "\n",
        "print(\"Contagem de vogais e consoantes:\", contagens)"
      ],
      "metadata": {
        "colab": {
          "base_uri": "https://localhost:8080/"
        },
        "id": "xOCdMNF4uQda",
        "outputId": "78a19105-4de4-49fa-c222-4070779a0653"
      },
      "execution_count": 23,
      "outputs": [
        {
          "output_type": "stream",
          "name": "stdout",
          "text": [
            "Contagem de vogais e consoantes: [('arara', (3, 2)), ('python', (1, 5)), ('ana', (2, 1)), ('maria', (3, 2)), ('css', (0, 3)), ('java', (2, 2))]\n"
          ]
        }
      ]
    }
  ]
}